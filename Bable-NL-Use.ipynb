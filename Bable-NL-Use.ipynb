{
 "cells": [
  {
   "cell_type": "code",
   "execution_count": 1,
   "metadata": {},
   "outputs": [],
   "source": [
    "import os\n",
    "import random\n",
    "import numpy as np\n",
    "import glob\n",
    "import unidecode\n",
    "import string\n",
    "import time\n",
    "import math\n",
    "import torch\n",
    "import torch.nn as nn\n",
    "from torch.autograd import Variable\n",
    "from tensorboardX import SummaryWriter\n",
    "\n",
    "from tqdm import tqdm\n",
    "\n",
    "%matplotlib inline\n",
    "import matplotlib.pyplot as plt\n"
   ]
  },
  {
   "cell_type": "code",
   "execution_count": 2,
   "metadata": {},
   "outputs": [],
   "source": [
    "model_name = 'bable-v3'\n",
    "step = 60000\n",
    "n_characters = 100\n",
    "model_type = 'gru'\n",
    "n_steps = 60000\n",
    "print_steps = 1000\n",
    "save_steps = 1000\n",
    "hidden_size = 256\n",
    "n_layers = 2\n",
    "learning_rate = 1e-3\n",
    "seq_len = 128\n",
    "batch_size = 64\n",
    "cuda = True\n",
    "seed = 9999\n",
    "data_filepath = 'D:\\\\Data\\\\northernlion\\\\output\\\\nl-isaac.txt'\n",
    "save_filepath = 'D:\\\\Models\\\\Bable\\\\' + model_name\n",
    "if not os.path.exists(save_filepath):\n",
    "    os.makedirs(save_filepath)\n",
    "log_filepath = 'D:\\\\Logs\\\\Bable\\\\' + model_name\n",
    "if not os.path.exists(log_filepath):\n",
    "    os.makedirs(log_filepath)\n",
    "np.random.seed(seed)\n",
    "random.seed(seed)\n",
    "torch.manual_seed(seed)\n",
    "torch.cuda.manual_seed(seed)\n",
    "torch.backends.cudnn.deterministic=True"
   ]
  },
  {
   "cell_type": "code",
   "execution_count": 3,
   "metadata": {},
   "outputs": [],
   "source": [
    "class CharRNN(nn.Module):\n",
    "    def __init__(self, input_size, hidden_size, output_size, model_type=\"gru\", n_layers=1):\n",
    "        super(CharRNN, self).__init__()\n",
    "        self.model_type = model_type.lower()\n",
    "        self.input_size = input_size\n",
    "        self.hidden_size = hidden_size\n",
    "        self.output_size = output_size\n",
    "        self.n_layers = n_layers\n",
    "\n",
    "        self.encoder = nn.Embedding(input_size, hidden_size)\n",
    "        if self.model_type == \"gru\":\n",
    "            self.rnn = nn.GRU(hidden_size, hidden_size, n_layers)\n",
    "        elif self.model_type == \"lstm\":\n",
    "            self.rnn = nn.LSTM(hidden_size, hidden_size, n_layers)\n",
    "        self.out = nn.Linear(hidden_size, output_size)\n",
    "\n",
    "    def forward(self, inputs, hidden):\n",
    "        batch_size = inputs.size(0)\n",
    "        encoded = self.encoder(inputs)\n",
    "        output, hidden = self.rnn(encoded.view(1, batch_size, -1), hidden)\n",
    "        output = self.out(output.view(batch_size, -1))\n",
    "        return output, hidden\n",
    "\n",
    "    def init_hidden(self, batch_size):\n",
    "        if self.model_type == \"lstm\":\n",
    "            return (Variable(torch.zeros(self.n_layers, batch_size, self.hidden_size)),\n",
    "                    Variable(torch.zeros(self.n_layers, batch_size, self.hidden_size)))\n",
    "        else:\n",
    "            return Variable(torch.zeros(self.n_layers, batch_size, self.hidden_size))\n"
   ]
  },
  {
   "cell_type": "code",
   "execution_count": 4,
   "metadata": {},
   "outputs": [],
   "source": [
    "# TODO should process nl-isaac.txt to convert unicode that can't be printed to some equivalent\n",
    "all_characters = string.printable\n",
    "n_characters = len(all_characters)\n",
    "\n",
    "def read_file(filepath):\n",
    "    file = unidecode.unidecode(open(filepath).read())\n",
    "    return file, len(file)\n",
    "\n",
    "# Turning a string into a tensor\n",
    "def char_tensor(string):\n",
    "    tensor = torch.zeros(len(string)).long()\n",
    "    for c in range(len(string)):\n",
    "        try:\n",
    "            tensor[c] = all_characters.index(string[c])\n",
    "        except:\n",
    "            continue\n",
    "    return tensor\n",
    "\n",
    "# Readable time elapsed\n",
    "def time_since(since):\n",
    "    s = time.time() - since\n",
    "    m = math.floor(s / 60)\n",
    "    s -= m * 60\n",
    "    return f'{m}m {s:.2f}s'"
   ]
  },
  {
   "cell_type": "code",
   "execution_count": 5,
   "metadata": {},
   "outputs": [],
   "source": [
    "def save(model, step):\n",
    "    model_filepath = os.path.join(save_filepath, f'{model_name}-{step}.pth.tar')\n",
    "    #torch.save(model, model_filepath)\n",
    "    torch.save({'state_dict': model.state_dict()}, model_filepath)\n",
    "    print(f'Saved as {model_filepath}')\n",
    "    \n",
    "def load(model, step):\n",
    "    model_filepath = os.path.join(save_filepath, f'{model_name}-{step}.pth.tar')\n",
    "    checkpoint = torch.load(model_filepath)\n",
    "    model.load_state_dict(checkpoint['state_dict'])\n"
   ]
  },
  {
   "cell_type": "code",
   "execution_count": 6,
   "metadata": {},
   "outputs": [],
   "source": [
    "def generate(model, prime_str='A', predict_len=100, temperature=0.8, cuda=False):\n",
    "    hidden = model.init_hidden(1)\n",
    "    prime_input = Variable(char_tensor(prime_str).unsqueeze(0))\n",
    "\n",
    "    if cuda:\n",
    "        hidden = hidden.cuda()\n",
    "        prime_input = prime_input.cuda()\n",
    "    predicted = prime_str\n",
    "\n",
    "    # Use priming string to \"build up\" hidden state\n",
    "    for p in range(len(prime_str) - 1):\n",
    "        _, hidden = model(prime_input[:,p], hidden)\n",
    "        \n",
    "    inp = prime_input[:, -1]\n",
    "    \n",
    "    for p in range(predict_len):\n",
    "        output, hidden = model(inp, hidden)\n",
    "        \n",
    "        # Sample from the network as a multinomial distribution\n",
    "        output_dist = output.data.view(-1).div(temperature).exp()\n",
    "        top_i = torch.multinomial(output_dist, 1)[0]\n",
    "\n",
    "        # Add predicted character to string and use as next input\n",
    "        predicted_char = all_characters[top_i]\n",
    "        predicted += predicted_char\n",
    "        inp = Variable(char_tensor(predicted_char).unsqueeze(0))\n",
    "        if cuda:\n",
    "            inp = inp.cuda()\n",
    "\n",
    "    return predicted\n"
   ]
  },
  {
   "cell_type": "code",
   "execution_count": 7,
   "metadata": {},
   "outputs": [],
   "source": [
    "# Initialize models and start training\n",
    "\n",
    "model = CharRNN(\n",
    "    n_characters,\n",
    "    hidden_size,\n",
    "    n_characters,\n",
    "    model_type=model_type,\n",
    "    n_layers=n_layers,\n",
    ")\n",
    "model_optimizer = torch.optim.Adam(model.parameters(), lr=learning_rate)\n",
    "criterion = nn.CrossEntropyLoss()\n",
    "\n",
    "if cuda:\n",
    "    model.cuda()"
   ]
  },
  {
   "cell_type": "code",
   "execution_count": 8,
   "metadata": {},
   "outputs": [
    {
     "data": {
      "text/plain": [
       "CharRNN(\n",
       "  (encoder): Embedding(100, 256)\n",
       "  (rnn): GRU(256, 256, num_layers=2)\n",
       "  (out): Linear(in_features=256, out_features=100, bias=True)\n",
       ")"
      ]
     },
     "execution_count": 8,
     "metadata": {},
     "output_type": "execute_result"
    }
   ],
   "source": [
    "load(model, step)\n",
    "model.eval()"
   ]
  },
  {
   "cell_type": "code",
   "execution_count": 11,
   "metadata": {},
   "outputs": [
    {
     "data": {
      "text/plain": [
       "\"hey were able to go to the shop but we're not gonna be fair to get an angel probably some kind of there the day again we'll see if we did here but just for this and then it might be like a hundred times sure it's worth it I can fly but if we can get enemies lucky me kill them anyway or something on our other tears upgrade without a doubt the bear we could easily get to you know pause and then he shows up and being like you know the the first thing about in my brain speaking back there class because the guy wanted it by hits you have to take a spear at hard an ace of clubs like I like as soon as we don't get a deal with the devil on this floor only sight or decidestroy from a deal with the devil and I'm gonna you know still get one on this floor yeah we don't want to meet the larges in the haunt man and it has nothing nehas bunning to do it and then like two oster is our damage because that's a little more released but we're gonna may yeah I was going to say no problems in a row is a fun run where I'd like to take a good chance to be able to stand in the first place we don't have Guppies tail so we're probably snuping up a bomb I don't really really need the HP is gonna well we're gonna do this is good from a scary man it's not a it's a more fast as well he made like you know the old the real six robes of melode on a ton of red hearts we could have olds and this is not that bad it's just the audio run still on this run but the stupidly dealing damage actually becomes a little bit more agent that has the items that we're gonna I do with a great deal at this point is like a little bit more worth it we can't actually take advantage of a lot of clubs just reference to have gotten that one no we fight it we're in a classic annoy to steal his idea frysted up the like he's always gonna go back there there's sure don't take it that  that is a really really really really short and then we continue the room we should have to be it's made tick with curse of the tower might have gone next floor but it could be more admittedly it gives us a pill it's some kind of an English that's how much about Lazarus I think it's the ideal time in my life thing is a very well and if they were is out of underval scam I see it again whenever possible here until you get an idiot that you know you can see if you're pissed out some of the best plastic is they did you're in a slog at matter I was like bombs they don't think that will take a deal with the devil here and again we don't want to get to the horn rate of fire if we didn't get hit here we go okay because we also got to suck up a per throw we're gonna make it to the deal it's a good item I will do it you know if we don't make me the damage maybe like the comp-orone that it's just not worth it Lilith is like a higher damage yet but it might not be our dps that sounds awkward shots life was like to minimize general story I'm gonna go to the shop there you want to do anything that came out of the bundle we have HP as penny so it's good but it's really easy to have the stars card to begin with but then they're curse the challenges so I'm so much kind of a fun fall right there it is what it is what I'm trying to say you know I've never seen because you know you have no nahesly when you're you know what we're being weird to everybody welcome back to northern look at the Keys true run you're here I suppose maybe do we have one time I always drop anybody I don't think that's a good defense but I don't know what this is just guaranteed maybe I'll take the highlight ko to get to boss rush this is the deal with the devil on this floor because a lot of a spirit heart if you could buy a key for chests compass which is not a terrible time to take it you know down in this run that was not quite is because we get to the the more shots can't see the deal with the devil on this floor and then pick up the whoop well just making shit that doesn't matter hello okay well now that we have some kind of shitty one on this run I don't really want to stay don't now I think that was still a lot more important to me okay for now it's ready to get like a little bit done instead enough to take up a little bit lowered up if we're going to be going to be on a diverit shit we can get in there so one of these are the range upgrades in the in the future it's been the most beans my interestings plays the I can get you enthusiast it's a tears upgrade headless baby I will tell you whenever you have no chance um yeah that much the dirty lines up and that's the more like I may dude that you might pay our best you know the chance to give us almost no red candle which we could be like a mark a bunch of them in these child's path we can actually be able to take curse of the time that's okay this could be an elegan here we should take it to our deal with the devil and also we win on the line to get to the shop for free or something like that that's also very scared about this probably you know sake but maybe maybe even clean and now cuz sadly we're not doing this and still get it you know by a hit there I can remember it is a real since the mother as the run is like it's a lot of fun and then we just get more freaking socializing purposes one is borderline even though I have any cards and you know what I'm not saying I believe it is useless to these enemies here please be like one of the time we'll take the deal with the devil but this is actually basically what we've been true Wow I'm dead it's just the devil and let's get much much less very much because the highest money we have an acceptable one more tears upgrade on this floor on this floor we got enough money to blow up the damage water beam don't think we're going to get more items on this run is obviously everything else I don't want to lose this run with blank card this is pretty much much option but it you know if I got to get another great problem from the I saw that bag or like it's just I don't like maybe we'll just hold the one but anyway there's a joker card on this floor it did sincerely makes it so acceptable it's not a joke in the industry or there's a tendency to get in my opinion that we are not gonna actually would try to buy two cents where is it worth it but hey it's just strengths it would be like many people would like to see where this one didn't realize it so look I should really feel like we're still at the first floor and a piercing shot we really have to use a spirit are that helps us to the rate of fire is actually not as good as possible it's talking about on the next floor I use this other people they have no idea what I'm talking about the curve anymore I also would have like pretty nice for me alright we got the best deal that's alright we do have to be killed and then even more money that that's not necessary that would be nice to get a teleport is good we're not gonna do it as long as we don't we dide you may prefer it will get out of here but I'm hoping that the red hearts and then synergies with me whone this is where we want to get you know a lock upgrade and maybe a lot to be doing this to be charged item that's like a little shitty for me this is for a magic mushroom on every time it's not a possibility of game is not the hard concern to always make some money for us to have a huge get to boss rush and i'm gonna tell you but not because I should be real too simple I have to fight the enemy or something like that okay can active item we're just going to get the spirit arts can teleport out now one's fairly good about our other aggressive and it's conception now is we got to catter that is going to be well admittedly and we're looking for a key and start out and we should get that key actually and we're gonna stick with sac dagger Bombo are four and a quieter the idea of this guy one of those items already done on this run and I think it means and then then we'll buy a spirit heart one full space bar item maybe I've had there so pretty much it anyway I get from one spirit heart again of course i'm gonna pay you in this big room we're still learning to me and then to know how to jump is not in here I guess don't shoot a speed upgrade I got hit by my fan I don't understand do you take some speed up here which something like that but if we can get some interesting win with brimstone is not the only tears downgrade at all I don't think we can get some boss trap rooms are better Oh be and getting to the lock upgrades so there's no reason we could use the item but yeah the game goes on here so we can use the pill this is me be a pretty easy man okay we're gonna do a battery charge we could get some of our right damage as 65 or something right there we go fuck the steam sale department but it could have to be worse perfect still pretty much touch of course we're going all the antis really are aware you know it was a secret room so I could be an okay so I'm not gonna make that full charge it seems like this is the best chance to concern it I don't know if it's worth going to the boss fight to be different to me it's just step on the last floor if we can get us out of them so we're not gonna be getting in there to get like a it's very unbend but there's no idea it counts but I forgot that they had see more in the future for now thanks for watching and I will see you next time \\nhey everybody welcome back to northern line please ten dollar and like is fire you know your actuals and been watching this run you know this is like his strategy now this run is his nickel with high as I thought that makes sense and I'm not losing up this good fails yo don't be punishment and high school but you know i guess it also goes into this run the cream so rather I'm hoping I think is also pretty excited not that is basically fine but I don't even want to do that to make sure immediately absolutely so much to mom's heart let me need to make me so it's a bad time and then also now this is a good one we have any reroll to the chest now that we're taking damage on this floor we have Pandora's been like that much like literally not that many outs are we were a big hell plus a Larry jr. might concept universe already done it on this floor maybe we should be a little bit more careful we don't get forget you to see if it smart it's so bad the dark rooms without this one is okay I don't think we got a little bit on the next floor anyway oh that's a defensive item it's beenaring and then you have like a year of wins the reason that I'm going to get us you know what to want to go to this room that would be relevant but it's crazy it's a very simple so we could just get however that's a smart stuck in the expression because of the dude plus the odds of doing something that we haven't it's really good when we find a secret room so we got a little damage or we will be ready to use the emperor card at least to some extent but that's okay killing the chance to pretty much have one point they're so short well I can see a battery charge though we actually know is not bad enough to mushroom it probably would have been stressing this is not that concerned about that we shouldn't have killed by myself ah the guys you want them that show up is where the hell or seven and you know what I still you know sincerely you know when they go oh but you know is that affects you know me I like that but this is a little scum with the real thing yes I'm even judgment in the present yeah it feels like they're not so rare i Chad that are the cheese not my God in my ear and I just want to fight the the most fawes lead to the other homing test and they're just more valuable to you and then you know use those this out and we'll go to our shop it puts us to start using more or the tick we should just like something to be on the day that I think is fine but you know betrayal is not good okay we get like two items that was uncomfortable as a negative starting did the desigating that is my favorite lack of Tammy's head is very unlikely this is one of the best consumables yeah the Book of Shadows okay so now we should remember whether or not to be working out that was a shame to be like a normal mixed up on this room is it worth the red demon judgment is what it is maybe a little bit we got a movie I wish I don't like that we're probably going to get this get up here and I don't know apart from that we if we get hit by monstro Guppies paw good defensed me anyway you know like nor not the worst thing did a chance to get the guppy dream pentagram that is exactly the same time could have been good that's pretty much as I've earned it but it's not as easy it is that was jacket while I'm in a brimstone game sometimes we're doing good we got this point out in fact I'm feeling pretty bad thanks for watching hope you enjoyed the episode that's not that I think is probably a little concerned about it you can't judge millions of 48 hour energy even if we get hit on the hush fight our damage is gonna be an improvement but I'm not going to be like oh my god tell me I was like a picture the whole hit by the same item I don't even think that I'm just gonna say you know I'm gonna stop the relic normally I'm not gonna put like it just makes it all stats upgrades we're going to a little bit more bomb to do perks could be a little bit more glad it means at least um I think we should be able to get out of this just trying to start with a demon judgat I'm gonna go see we can live with the heck out of this point one joke is like a win well we get some HP but we didn't really complained that pick up if we can make it more offensive we can just get into fairly frequently as soon as possible that the enemies to ported out there I still think it would do one Loki gives you a little so much meaning for us there it's not so bad we took some some repeating in the end and it's a better game is the idea of the way that the things in our face in the UK one Friday weird like oh shit is how it was like you know what let me just say that's that's a sympathy man if I could have gotten the skills and I realize we still think that well actually I have been bad we're losing the magnether HP you know maybe we'll be annoying to try to get that build we might as well become a strength guy they all okay there we go like the stick with a good run maybe we can keep ourselves up on the floor dude the last time we have to start with penny so thank you we get better chance we want to finish the the toiler okay so this could have been a laser their hand and then we don't want to open the ability in two seconds X point second benefit on my life but it's wort in the shop a lot I'm hoping for a while oh hello here we kill him why don't we just lose a quickly anymore you know we got the packs is already able to get hit by the fact that my done who longer of the lost with the option in the game matter here it's in our first floor we should use the bomb here and our son card is better than health upgrade I think I don't think we can pick up HP I guess it doesn't continue bad damage and we could have done our money is an amazing even though it as well we're still are pretty good time to use the situation like that would be a little worthwhile right now but that's not necessarily batteriet so I was thinking less with it but it is this run buddy I was like well I think we should be able to I'm gonna leave this first deal with the devil so the reason all we got our six or like the one that allows us to get daddy longer than his run as a result of that well we can't do anything at all thank God probably take a deal with the devil only happy don't think so we can get some of them for getting ourselves man and we could have gotten our damage right now like we're all thankfuld as a tiny planet seems like no I don't think it's a happy I think that I think it gives you like a trinket of the day and then hopefully we get an item that we can do that key this room is good but I'm gonna I'm gonna try to do was pretty good but it i don't know if this is a dirty synergy is a little bit out of him bones with you kill moms heart is head even around the chest which is exactly the same pain is putting out of me and he was going to a other side of this but we should not have to be elevalue in the late what do you care about like little brimstone we don't really want to make me move it or something it was a difference like we're not taking more damage the deals with the devil makes me like you know use item room maybe all the way by pulling on a slot for us as root for us here which is good okay we don't immediately have that bomb we got one HP left please play it we have some way we got the red heart damage but I was getting the exact same amount of HP but I was hoping for its point or the hush fight but it would be good but there's an obetter we've taken a charge deal with the devil on the next floor we should really lose the top of course that was the pace move it's not insulting we got it on the ground and not working out what are we gonna do it that was a big one is what I'm trying to get there the best deal with the devil it is actually shit we have the secret room maybe we don't get the HP to go back then spider baby is if I see something about absolutely appropriately seeings a little bit more nice to not be like three plus 37 yeah it's not like I'm pleased with this that which might be worth the job done um I almost want to get any other damage is not gonna fight the floor this guy's got like finishing this one was it as far basically we're strong don't get hit there before we try to get a win or you know mean I actually feel like an idiot in the future as I could do the teleportation for this themselves our damage is good to very much an item that we're only on our fly synergy here probably on the situation but it's also not that good mode you can see if you well with like my life anymore that's why I do think you know it's not a situation move you got to key up so we should only have a tinted rock not that mean that we didn't really ruin it but I don't think so far not saying that at all okay that's not really giving me so much for me to not take their secret rooms is a little Wonderfull like my personal collumber at the start that that I'm gonna admit here the other thing with my parents as a result of the keys or so you know what he could be like hey guy with an enemy I suppose but because the potential is a figured mark all attention that he said this one down the chest which is also knowing it they're still using Krampus and I'm gonna want to get into the form of space bar items this actually ends up grab that would be awesome it's not a good item it should really beat an extra deal with the devil run if we saved my disposal here but the secret room has been playing with a lot of a lot of luck with the deal with the devil as well if I had picked it up all right let's calm and then I think it's just like I suppose I'm being facetious about this judgment lately would be a very sensible push him we'll take the the best to the poop on this run but the other weird existed to this feel a little bit on the womb dish the big one for worse I guess I would probably accept that enemies which is probably one of the vampires that you can't get strange-banning serious if the heck out of belaff that's amazing and I don't think it's tempting but they've got out of here and you know you were a there it's a chaos card but a little bit certainly in this cognitive card is that it's just a concern believe it or kind of stay away from being able to get any money for reason i should say with we had that's fine like that's awesome for example again we have to lower Libra is relatively good but we should be able to make it so we have a respawn item you're a little bit more intelligenting to be learned to talk those situations followed the dailies they have a chance to get some most possible makes me lose the street so it's a great opportunity to be a little bit playing a long direction which is an incredibly uncooked up is be right now is super not that specifically the raises has to be a little bit more more like serious or to get over the arcade that was the greatest people but I didn't even see look and the reason that that they might make an insult us up the street I'm gonna do that we're spending a lot of amazing damage but our rate of fire so the damage looks like we're still kind of under and we're looking for a lot of situations here the one this is fine maybe like two tiers plus we might as well leave this run so we might as well be concerned about that we should be able to lose some of those not even sounds were the most on the back of battery right on the next floor we got so many of the fences we could buy a sphere and then I think we should be able to do is check out this we're guilty out of it and then we get out of this one we're probably gonna be fine we can't have to fight hush it happens and say they don't tell it too much that much and then they want another like here's my negative let's take it out there because I didn't see who I like an internal heart to hurt ourselves that we get more times in a row away if we get here we go the whoop but I say that we're gonna get out of the game such a deal with the devil if it doesn't kill any damage down here and that did right around here gives us some more clever because it's the adjacent piercing shots is so bad to kill ourselves those weird i might as well just focus on it but that might have been within the box of flies that we're gonna get the damage we should probably use the rate of fire to begin with that would be free if we can have blah blah no you're in the room I think that then that's the only way that we don't have to buy a spirit art and honestly and it's all weird than we could we come back with pictures of the odds of time I don't think we really want to keep the item room so we'll just pick up blood bag because we're in a good room so ahead of the damaged downgrade which is probably town we have a good thing for us easy go use the stuff I mean there's no responsible penalty to be a little bit more HP floor I think you can do the mobine one fly and then the guys are better against the final button to take one of the course but I think this is this is a good spot we got soon anyway it's true I love the same dice room still a little ridiculous so we're getting this got to accept shots might as well tell if we can hit this up not really so nearly excited for us didn't even not give us the money to worry about that we're in the game here I should have taken the heck out of his slightly okay okay pheromones like a dick was just working otherwise when I roll it out of the way there but I'm most of you but the d6 and as a result of having to sweat that inside of my perfect that I can see decent musital for the freaking magic mushroom i will use to can't really afford to take let's do this again we shouldn't have gotten us to fire which actually is fine but the reason that we can't be too easy but that's okay and we're definitely all that for sure but I think we don't take context the cat hit that we made this run that seems to be but I think we'll take this it's going a little bit like if you want to be pretty good and it's a great deal and of course subscribe if you enjoyed the episode if you true or a new Michael man to be honest with you have you take off of mistake and we didn't have to use that one more room which is a little bit kind of hard but we're doing boss rush you know please about it I think we're gonna have to be taking damage on era and it's why I'm gonna do worry about it but we might as well save us to make it through there like the explosion was a two second secret room as much as I knew it doesn't matter if we didn't kill that chance at least the compass I should have been so at about that but not implemic and you know everybody wants to come in but it helps us even though we have an extra tiers seen would go to said all of our demon judgements maybe we'll get the heck out of this run i think it's not possible that when it comes to growing up to the shop run which we didn't I think it's abook on our head our fight thing I will take both of these I remember between twitch convenience in it all the damage on the walls anyway I can fly as a story for your future for well you can actually eat Wooden Nickel Plus fight or deals with the devil as long as we could live to be a benefit of the top for the tower and then we're going to take the moms pad so there's a right hard ahead of blew down three point five lives with another what do we have two keys that we get that but it's not a whole mind we're going to complain that stroke right now and impressed man I hate this ok we have one now we got a chance as long as we have money in the game here Amine I don't think the more you did work well we're not too surprising I appreciate that there is not a whole thing it's the mind you got to pick up my life but on the run to do the direction was it against my philosophy maybe like a little bit of succubus this is a really good person brimstone which is okay you know what we got the health upgrade there we get another spirit heart okay so we're getting a deal with the devil and flies are like a smart worst-tack my comments are like the hope is that you know the line please don't be a little bit of item or as I'm you know first off I was hoping that we didn't stay as certainly one of the best cents so I have no idea mysterious problem you know you can start taking the dead fight cuz there one of the same way that we possibly get that key to get two hearts to take Woodles with guppy on a damage bone heart we got to take our money I think we should be good so already great I get that we're not in a bad day good fly Eden Looking for now this is just I mean he's passive rage stuff going screw my adult life is against my head is I think we should have gotten the Sun card and we're gonna get through to you is don't know many people would be like well what I mean we're still what I mean I use the detriment it's unicorn stump it will just be strong there might random floor for us to justify on the next floor to get a golden chest or jokers to fight the boss fight if we can get 38 35 percent chip in place wow it is going to assume you freakin medical Chad West 7 years at any incredibly pretty much in the middle of the domicilar three days I suppose needs it for this run I just want to use the Emperor might be damaged - should take me out of this tiny planet instead of getting a little too late a little more more attack fly behind schedule right perfect we would have made this but we're at 30 there are times so we're going to open this boss the only three items and run behind this guy just want to make it so we can't cursed there's a lot of HP especially with it be able to go to our curse room and got it one of those everything I think it could be the expressions here but another mortal start off the shop we need to do this the Steven is good we can still take safety cap is not so far there we go we're gonna get our first floor the thing is I'm surprised it's alright I guess we get a deal with the devil chance that I don't even want to get to now which is really not that way is this is this is the dying is actually like this is a big shit which is nice but I didn't say it this is not that bad it's just half heart at this point but there's a little chubby at least when it comes tomoroms out makes our deal with the angel I don't know why I'll see when people don't believe it is pretty much like a did the book of Belial that's an expression but I'm still you know in the morning step one cool song not that I'm sitting with the silly mildly good factor that we may spawn freeze that as a result of the run if we're not going to see it just because I'm very narratimate like dude I'm pretty sure that I see you know a little about doing my sance was a chance to purchase our tier set up and we'll have our bone heart it's ice of a person I'm like hey this seemed like real friend you don't assume that people were in the same time on the developers all this movies now that with six langwork or you know what the most hard excuses the idea that my bus what are they want to watch that maybe i didn't get this whip but it's not that greed you know you shouldn't and went from that I think it's bitter and you know it makes it in soy milk I'll probably be dip that did matter if I'm just like I didn't watch us in the puzzle standpoint you've definitely had to get hit there know mom's on ready we didn't get it just let's put it that we are probably better for us stronger than we were we owe you an arcade no no no no the other item room they're gonna be an IV bag or Delirium fight not every room we have that floor could be worse and if there's anything to be taken the sick to the boss fight is not sure you know because we're passed our rate of fire is so happy to get in our deal with the devil items and it kind of soll you know please thank you thank you really tough than go all the time I was the most style that was kind of million in my life here and I live in my side of the game even if you don't get into my decision but if you think the dailorates is a little bit more confident about it I hate this room look I'm just gonna show up on in this situation in his eternal heart is worth taking about a deal with the devil and we have no idea where the menues has some kind of me oh that was American bream where we're gonna get there we got open up in the part of the angel but i think the coupon that's not quite trying to succeed right it's an remaining personal I mean that's not a good item it's good for this ability to go to the the same start again that was a different mistake or one of those this run so were so far is that we're still enough above which is actually beautiful um but I got already at this point we're moved on this floor I'm probably pretty lucky to att\""
      ]
     },
     "execution_count": 11,
     "metadata": {},
     "output_type": "execute_result"
    }
   ],
   "source": [
    "generate(model, prime_str='hey', predict_len=30000, temperature=0.8, cuda=cuda)"
   ]
  },
  {
   "cell_type": "code",
   "execution_count": null,
   "metadata": {},
   "outputs": [],
   "source": []
  }
 ],
 "metadata": {
  "kernelspec": {
   "display_name": "Python 3",
   "language": "python",
   "name": "python3"
  },
  "language_info": {
   "codemirror_mode": {
    "name": "ipython",
    "version": 3
   },
   "file_extension": ".py",
   "mimetype": "text/x-python",
   "name": "python",
   "nbconvert_exporter": "python",
   "pygments_lexer": "ipython3",
   "version": "3.6.5"
  }
 },
 "nbformat": 4,
 "nbformat_minor": 2
}
