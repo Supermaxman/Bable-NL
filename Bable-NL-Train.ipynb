{
 "cells": [
  {
   "cell_type": "code",
   "execution_count": 1,
   "metadata": {},
   "outputs": [],
   "source": [
    "import os\n",
    "import random\n",
    "import numpy as np\n",
    "import glob\n",
    "import unidecode\n",
    "import string\n",
    "import time\n",
    "import math\n",
    "import torch\n",
    "import torch.nn as nn\n",
    "from torch.autograd import Variable\n",
    "from tensorboardX import SummaryWriter\n",
    "\n",
    "from tqdm import tqdm\n",
    "\n",
    "%matplotlib inline\n",
    "import matplotlib.pyplot as plt\n"
   ]
  },
  {
   "cell_type": "code",
   "execution_count": 2,
   "metadata": {},
   "outputs": [],
   "source": [
    "model_name = 'bable-v3'\n",
    "model_type = 'gru'\n",
    "n_steps = 60000\n",
    "print_steps = 1000\n",
    "save_steps = 1000\n",
    "hidden_size = 256\n",
    "n_layers = 2\n",
    "learning_rate = 1e-3\n",
    "seq_len = 128\n",
    "batch_size = 64\n",
    "cuda = True\n",
    "seed = 9999\n",
    "data_filepath = 'D:\\\\Data\\\\northernlion\\\\output\\\\nl-isaac.txt'\n",
    "save_filepath = 'D:\\\\Models\\\\Bable\\\\' + model_name\n",
    "if not os.path.exists(save_filepath):\n",
    "    os.makedirs(save_filepath)\n",
    "log_filepath = 'D:\\\\Logs\\\\Bable\\\\' + model_name\n",
    "if not os.path.exists(log_filepath):\n",
    "    os.makedirs(log_filepath)\n",
    "np.random.seed(seed)\n",
    "random.seed(seed)\n",
    "torch.manual_seed(seed)\n",
    "torch.cuda.manual_seed(seed)\n",
    "torch.backends.cudnn.deterministic=True"
   ]
  },
  {
   "cell_type": "code",
   "execution_count": 3,
   "metadata": {},
   "outputs": [],
   "source": [
    "# TODO should process nl-isaac.txt to convert unicode that can't be printed to some equivalent\n",
    "all_characters = string.printable\n",
    "n_characters = len(all_characters)\n",
    "\n",
    "def read_file(filepath):\n",
    "    file = unidecode.unidecode(open(filepath).read())\n",
    "    return file, len(file)\n",
    "\n",
    "# Turning a string into a tensor\n",
    "def char_tensor(string):\n",
    "    tensor = torch.zeros(len(string)).long()\n",
    "    for c in range(len(string)):\n",
    "        try:\n",
    "            tensor[c] = all_characters.index(string[c])\n",
    "        except:\n",
    "            continue\n",
    "    return tensor\n",
    "\n",
    "# Readable time elapsed\n",
    "def time_since(since):\n",
    "    s = time.time() - since\n",
    "    m = math.floor(s / 60)\n",
    "    s -= m * 60\n",
    "    return f'{m}m {s:.2f}s'"
   ]
  },
  {
   "cell_type": "code",
   "execution_count": 4,
   "metadata": {},
   "outputs": [],
   "source": [
    "class CharRNN(nn.Module):\n",
    "    def __init__(self, input_size, hidden_size, output_size, model_type=\"gru\", n_layers=1):\n",
    "        super(CharRNN, self).__init__()\n",
    "        self.model_type = model_type.lower()\n",
    "        self.input_size = input_size\n",
    "        self.hidden_size = hidden_size\n",
    "        self.output_size = output_size\n",
    "        self.n_layers = n_layers\n",
    "\n",
    "        self.encoder = nn.Embedding(input_size, hidden_size)\n",
    "        if self.model_type == \"gru\":\n",
    "            self.rnn = nn.GRU(hidden_size, hidden_size, n_layers)\n",
    "        elif self.model_type == \"lstm\":\n",
    "            self.rnn = nn.LSTM(hidden_size, hidden_size, n_layers)\n",
    "        self.out = nn.Linear(hidden_size, output_size)\n",
    "\n",
    "    def forward(self, inputs, hidden):\n",
    "        batch_size = inputs.size(0)\n",
    "        encoded = self.encoder(inputs)\n",
    "        output, hidden = self.rnn(encoded.view(1, batch_size, -1), hidden)\n",
    "        output = self.out(output.view(batch_size, -1))\n",
    "        return output, hidden\n",
    "\n",
    "    def init_hidden(self, batch_size):\n",
    "        if self.model_type == \"lstm\":\n",
    "            return (Variable(torch.zeros(self.n_layers, batch_size, self.hidden_size)),\n",
    "                    Variable(torch.zeros(self.n_layers, batch_size, self.hidden_size)))\n",
    "        else:\n",
    "            return Variable(torch.zeros(self.n_layers, batch_size, self.hidden_size))\n"
   ]
  },
  {
   "cell_type": "code",
   "execution_count": 5,
   "metadata": {},
   "outputs": [],
   "source": [
    "file, file_len = read_file(data_filepath)"
   ]
  },
  {
   "cell_type": "code",
   "execution_count": 6,
   "metadata": {},
   "outputs": [
    {
     "name": "stdout",
     "output_type": "stream",
     "text": [
      "Total file characters: 71056008\n"
     ]
    }
   ],
   "source": [
    "print(f'Total file characters: {file_len}')"
   ]
  },
  {
   "cell_type": "code",
   "execution_count": 7,
   "metadata": {},
   "outputs": [],
   "source": [
    "def random_training_set(seq_len, batch_size):\n",
    "    inp = torch.LongTensor(batch_size, seq_len)\n",
    "    target = torch.LongTensor(batch_size, seq_len)\n",
    "    for bi in range(batch_size):\n",
    "        start_index = random.randint(0, file_len - seq_len)\n",
    "        end_index = start_index + seq_len + 1\n",
    "        seq = file[start_index:end_index]\n",
    "        inp[bi] = char_tensor(seq[:-1])\n",
    "        target[bi] = char_tensor(seq[1:])\n",
    "    inp = Variable(inp)\n",
    "    target = Variable(target)\n",
    "    if cuda:\n",
    "        inp = inp.cuda()\n",
    "        target = target.cuda()\n",
    "    return inp, target\n",
    "\n",
    "def train(inp, target):\n",
    "    hidden = model.init_hidden(batch_size)\n",
    "    if cuda:\n",
    "        hidden = hidden.cuda()\n",
    "    model.zero_grad()\n",
    "    loss = 0\n",
    "\n",
    "    for c in range(seq_len):\n",
    "        output, hidden = model(inp[:, c], hidden)\n",
    "        loss += criterion(output.view(batch_size, -1), target[:, c])\n",
    "\n",
    "    loss.backward()\n",
    "    model_optimizer.step()\n",
    "    return loss.data / seq_len\n",
    "\n",
    "def save(model, step):\n",
    "    model_filepath = os.path.join(save_filepath, f'{model_name}-{step}.pth.tar')\n",
    "    #torch.save(model, model_filepath)\n",
    "    torch.save({'state_dict': model.state_dict()}, model_filepath)\n",
    "    print(f'Saved as {model_filepath}')\n",
    "    \n",
    "def load(model, step):\n",
    "    model_filepath = os.path.join(save_filepath, f'{model_name}-{step}.pth.tar')\n",
    "    checkpoint = torch.load(model_filepath)\n",
    "    model.load_state_dict(checkpoint['state_dict'])\n"
   ]
  },
  {
   "cell_type": "code",
   "execution_count": 8,
   "metadata": {},
   "outputs": [],
   "source": [
    "def generate(model, prime_str='A', predict_len=100, temperature=0.8, cuda=False):\n",
    "    hidden = model.init_hidden(1)\n",
    "    prime_input = Variable(char_tensor(prime_str).unsqueeze(0))\n",
    "\n",
    "    if cuda:\n",
    "        hidden = hidden.cuda()\n",
    "        prime_input = prime_input.cuda()\n",
    "    predicted = prime_str\n",
    "\n",
    "    # Use priming string to \"build up\" hidden state\n",
    "    for p in range(len(prime_str) - 1):\n",
    "        _, hidden = model(prime_input[:,p], hidden)\n",
    "        \n",
    "    inp = prime_input[:, -1]\n",
    "    \n",
    "    for p in range(predict_len):\n",
    "        output, hidden = model(inp, hidden)\n",
    "        \n",
    "        # Sample from the network as a multinomial distribution\n",
    "        output_dist = output.data.view(-1).div(temperature).exp()\n",
    "        top_i = torch.multinomial(output_dist, 1)[0]\n",
    "\n",
    "        # Add predicted character to string and use as next input\n",
    "        predicted_char = all_characters[top_i]\n",
    "        predicted += predicted_char\n",
    "        inp = Variable(char_tensor(predicted_char).unsqueeze(0))\n",
    "        if cuda:\n",
    "            inp = inp.cuda()\n",
    "\n",
    "    return predicted\n"
   ]
  },
  {
   "cell_type": "code",
   "execution_count": 9,
   "metadata": {},
   "outputs": [],
   "source": [
    "# Initialize models and start training\n",
    "\n",
    "model = CharRNN(\n",
    "    n_characters,\n",
    "    hidden_size,\n",
    "    n_characters,\n",
    "    model_type=model_type,\n",
    "    n_layers=n_layers,\n",
    ")\n",
    "model_optimizer = torch.optim.Adam(model.parameters(), lr=learning_rate)\n",
    "criterion = nn.CrossEntropyLoss()\n",
    "\n",
    "if cuda:\n",
    "    model.cuda()"
   ]
  },
  {
   "cell_type": "code",
   "execution_count": 10,
   "metadata": {},
   "outputs": [
    {
     "name": "stdout",
     "output_type": "stream",
     "text": [
      "Training for 60000 steps...\n"
     ]
    },
    {
     "name": "stderr",
     "output_type": "stream",
     "text": [
      "  2%|█▎                                                                          | 999/60000 [07:39<7:16:30,  2.25it/s]"
     ]
    },
    {
     "name": "stdout",
     "output_type": "stream",
     "text": [
      "[7m 40.15s (1000 1.67%) 1.16]\n",
      "hey never certainly being extra bandage consumable that  of the spirit or my card it's more bombs is advance is bitch that's all right you know for my happens in our bumb of a a run just indetertically and we can't be a try to do play goat much as would be like a completely op Sate interestand to make it worked out in here to be would be a strance of that room watching the etce that's okay that I just like to go basically much we did the weed at least now that considerstand it change but we can completely so but it considences that I was a little bit more of the large shop oh you want to fly will be a little HP to stay so I'm still got a foot lucky finstone and then you can't actually could be a with the bender now our for that I hate it time so I'm not surprises to the right now we have a guppy demon victory on my order the in the spending and we'll addest and or something for that boss rush ends that's okay I'm trying to be a bomb I have been so good or for sure's dead of the confused with that one of their baby with some much is going to find our repeated but if you have a pretty slower into the from so well I would be about it but if we still got a methin everything so you're not gonna be an ability to take also that I would love to because we're gonna garder point we have all off for done we have to this is actually I suppose there if it gives us to but he never away I think we can't get you know that good of pass but I'm a sand luve a had like you know if who you know what I'm not going to say towers with making how that off Inco one of the way I think all ti fine in I'll get a poolish that's actually bad pickup into our bandage with this is a bomb after it's at reason and I will comes to take a more restake about the deal with the devil here I also like if you should spot para episode that's a lot tears oh shots get stick with it you absility to be honest I I'll stand I guess we are not we're not sension of three item floor to actually have by the deals I think  \n",
      "\n",
      "Saved as D:\\Models\\Bable\\bable-v3\\bable-v3-1000.pth.tar\n"
     ]
    },
    {
     "name": "stderr",
     "output_type": "stream",
     "text": [
      "  3%|██▍                                                                        | 1999/60000 [15:12<7:36:29,  2.12it/s]"
     ]
    },
    {
     "name": "stdout",
     "output_type": "stream",
     "text": [
      "[15m 12.64s (2000 3.33%) 1.11]\n",
      "hey eaten lettere too shooting much being so let's let me this is pretty powered for money or in the same competitive altime all right let's go to find our red chest of the song on the moving on a form is just definitely we gotta be more good enemy and by oh I can't give us a little bit more for the mouth card to work I would be like you got a beautiful we're gonna say but it was a bad item and then we should get hit and then our surprisingly all right overly chest so I understand the episode I have to you know it leave and just in the extra luckie we're gonna be fine all a tears and that was not really in the future always in a bomb mathemation maybe sure we were feeling to look love to say the boss room because it's at one really good to do a something else we should's like hey I mean from I mean I have a second I ton a hard to it it's all cute for us okay that we could be able to me look that you know what I was like you know but we'd like the run is just pretty confident that was the entire like really we got a deal with the devil okay scheme of like you know complain so far that it's pretty sight on the rotten hearts on me let's not what you like your box okay well we get to the angel but you know come in a long time to do some more in there with forever and let's comment to get away the silly any of the boss rush right it's like like a really really really really dude we're not gonna heart here don't take you play anycking I'm looking into the early and then they digit and we got to take damage on this run we get a use-out of there we never know gonna fight map take your stepted back and possible you know we need one of leave for our chance I think that we're really good we don't have design if the last spend in the oppoperate not to have two of that room that would find the shop is just like a chance for us this run right now bum or the most pames that amount of all those shots which is without to cane to the way I don't know what it sound the singers and shoopd \n",
      "\n",
      "Saved as D:\\Models\\Bable\\bable-v3\\bable-v3-2000.pth.tar\n"
     ]
    },
    {
     "name": "stderr",
     "output_type": "stream",
     "text": [
      "  5%|███▋                                                                       | 2999/60000 [22:48<7:06:31,  2.23it/s]"
     ]
    },
    {
     "name": "stdout",
     "output_type": "stream",
     "text": [
      "[22m 48.67s (3000 5.00%) 1.09]\n",
      "hey were fair out this is a son card is not not that bad as the same well does make up believe if you're gonna get the champion card we're not gonna get a deal with the devil okay so well I really want to sit this one and I can give us an easier six flies we would really mean an angel for an eight floor or something like this and my life the because of champion okay you know what you can get any spot no same and it's awesome I guess is an awesome of getting instant song of conflicious card I guess we'll take a bad diction case we can have death card that was Jack Cross long as I respan HP upgrade I think is a little bit of boss rush and give us a deal with the devil like every percent of course as I don't think I'm gonna do this marking spiders you're very single damage with one of the windio ball about money or a books anything I would have definitely could use it and of course our episode bank I know if you could do that and we just be frigging about spider me considering that would be but so eated into the first floor as I just use the Flies that would be able to fly sometimes that we can live ever heard anyway again and it's believe that reap has makes this situation and then people to tell so it was not that good but it's a lot of our damage upgrade by an enemy yes I didn't respect that we gotta get deal with the devil and I cane or I appreciate it isn't not done with me do you know hows as so helps me down I think it's probably come and it is able to fight the answer is just a little if just stay from our shop got the d-samp rooms from the bomb which am some of that came of people I don't know if we believe we don't have the answer if we really say we can use our deal with the devil challenge we shouldn't be honest with you like well in Wails where it doesn't care you know I don't know when never gonna  where we're trying to be on the right decision we have remember the room and we're gonna take unlocked it was lucky boss ray to school it could be brimstone hard  \n",
      "\n",
      "Saved as D:\\Models\\Bable\\bable-v3\\bable-v3-3000.pth.tar\n"
     ]
    },
    {
     "name": "stderr",
     "output_type": "stream",
     "text": [
      "  7%|████▉                                                                      | 3999/60000 [30:25<7:02:05,  2.21it/s]"
     ]
    },
    {
     "name": "stdout",
     "output_type": "stream",
     "text": [
      "[30m 25.84s (4000 6.67%) 1.10]\n",
      "hey existed for it for the same but I almost like it's an about some self level d6 mostly the reason is having like an Isaac I've done every single day you know that was kind of infexult and let's play it up you see it can really need like scientically when I said he was pretty mad saying it's a free problems we got to come back no good as the episode of it but I have to beat a deal with the devil hopefully because I have to loor is in the way that are and dice room in the mogize here so as a nice here I want to be honest with it in here we go we're basically to be awesome and ah the Bosses least I should have gotten streaming to deal datashion shot for now thanks for your paint for some kind of commental dude shit we'll go but by the way but I think we got Sheol and then come to that that's good store as the everything all right can be like the same item that I was like have it I've taken that you know you know I was I'm just saved the item thanks for watching it doesn't quite that was actually going to go to head were in the boss different state is all going to be bad although I can't believe we have a telepic Point of a disgusting since we should go back to a very let's get an easy yet sometimes to be a little exciting so we're about the opportunity to run in the future subops specifically the only way to make it up HP is it worth our just temperance how I'm talking about the boss trap room I was you know it's a normal stats ah of isingle time for whatever you know maybe it's kind of doing doing and I'm going to say like this seems like we are going to be chain in the game thanks for if it goes to reroll the way that was rolling this is that the shots have so much better and then know what I was still not leave it those to say I actually are probably anyway just to try to get but that's what it does enter IV bag we clear through here that's not that now it's that's probably not going to give up anybody happy if we can stack the mom's knew there are oh that's the con \n",
      "\n",
      "Saved as D:\\Models\\Bable\\bable-v3\\bable-v3-4000.pth.tar\n"
     ]
    },
    {
     "name": "stderr",
     "output_type": "stream",
     "text": [
      "  8%|██████▏                                                                    | 4999/60000 [38:28<7:58:49,  1.91it/s]"
     ]
    },
    {
     "name": "stdout",
     "output_type": "stream",
     "text": [
      "[38m 29.49s (5000 8.33%) 1.03]\n",
      "hey go and buy something you know I would like to get some red here it actually we start that for now right now but we know I think it's basically kind of fun to be a good pill me I'm way to take it that's not cheesed by the way and I'm not gonna be even laughing on the last run and you know what I'm like when I say that they do it you know goes on you're like 19-hm i like that it must be stoked there and a little bit mind there so I mean I'm being that like you know have to be going to blow up the spirit hearts are a fun plan and the HP are I think that I want spirit arts I mean streetly here shows up I am so to steadour thing to pop on your shots in a draw start with the magics you know these are going into an adder it is not call and you know they were lemon shitty let's uh we really like it if you will play that we took a room the other one and that is like having a fun it's like another boat that was actually a second deal if we have like two of orbitals actually for you a chance like there plays it's not nice dream is meant so let me trying to use like a better spirit at the same time we care about our step it up our item room i guess we can get the only red heart or something that's over there and it does not even see how that we're doing a bunch of stuff that the completely um that show available touch contrulfill on earth okay this is if you will actually like the fuck of sense it's tough flash I think that explosive to the subtey go around around another demon baby even if we got thrilled with some good sense there have been here we can't get some more than the wins from the best of the worst you know there conself legal does in my life I've taken continue to the curse room here like you know I think that's probably seems like a wheels strong here and I think we want to do it when he does not when you think you know or second secret rooms and here what seconds that's your some moment that we don't terrible great day we did it if we're like example we just don \n",
      "\n",
      "Saved as D:\\Models\\Bable\\bable-v3\\bable-v3-5000.pth.tar\n"
     ]
    },
    {
     "name": "stderr",
     "output_type": "stream",
     "text": [
      " 10%|███████▍                                                                   | 5999/60000 [46:59<7:27:42,  2.01it/s]"
     ]
    },
    {
     "name": "stdout",
     "output_type": "stream",
     "text": [
      "[47m 0.15s (6000 10.00%) 1.10]\n",
      "hey gave me a spear at sixtreak it does have like a little bit better but it would be expecting the question if it's the idea of items so but different situation red a langus if I I would have been bad throwing for our spirit heart but that would be very to use it to hit and we'd hope that what the other one or something like that we have to interesting in my opinion or 1.2 there you go so one people that we could just get time but I just want to see more interesting in the big generatice place to be good but of course we had to use a chance for it to the corner we got a little bit in good to complete but he should be nice I would be so far at that pots on the infamy I feel about that there Oh does so we get the best of the wind I wish you know shouldn't have killed the blood say run so I mean we might we're going to fight just so we don't have some time we should just get out of the fact that we can't recommend I want to go here and I'm not going to make it all right sweet we have to know the whole way on it on the left here and then we'll take damage scies to take on me with the second secret room which is going to be the worst attack for a little bit more immediately this run was in a little bit even gonna stick with it we went a battery charges that when we got a luck upgrades just because I don't know what click the bat should be like an IV bag in it I don't know where you want to be of a good item in hell again okay I can't still do what is you know you get a spirit heart there oh my god there includes because also this is offense that I would never need to damage that it's just a huge gets so we got a club which is one of those in the interest so I want to use our voable but anyway there you know it's going to shoot that you know the corner we didn't guarantee these day what do you think it's just to stay in the making me for some red heart and a bomb from that just be like a minute but shootes I still feel like at least another and it's a fast actually we got a \n",
      "\n",
      "Saved as D:\\Models\\Bable\\bable-v3\\bable-v3-6000.pth.tar\n"
     ]
    },
    {
     "name": "stderr",
     "output_type": "stream",
     "text": [
      " 12%|████████▋                                                                  | 6999/60000 [55:24<7:19:04,  2.01it/s]"
     ]
    },
    {
     "name": "stdout",
     "output_type": "stream",
     "text": [
      "[55m 25.30s (7000 11.67%) 1.05]\n",
      "hey looked at some room all against the word and to shoot with not even if we feel like our secret room and then we get in the cooker that was a unicorns are a tear in the future I gotta take away for that 5 cents which is what it is broken and the most important really like we're going to take it and then we can just live into any more than because the shots in compass right now we lose out of here we can get one and then we get it get back for them fair but our damage but it's a good shot like it does or something like that we're getting a freaking two sudden pennies they would make them to happen let's check out the there's no reason it's taken a little extra guy just because there were whether was a shadow and it's really good that's like the heck in the end that tastes a not a petrified points I mean they're allow you so well I want to be the the video calling yourself a conditional cannot heart early it's not a reasons and a little thing in the tears goos bad but we can't up in the same speed and I know there's attention there and assuming our HP is that we're gonna take what buy our best or something some solid lovely but even done there but I think we've got some HP deals with the devil just consistently each anything about this is released here all the time anyway because we have a room with the shop on this floor that's for me there and a little part of the damage upgrade what are we're really wasting some more HP now we could pop that but it's not a doubt much harder of the items seed on the damage and we couldn't say that you know when the middle wow we've got a lot of damage and a little bit of a curse room and it is amazing because we've already been as exciting time here but we're like you know copies head hey in write a little bit more than one deal with the devil complaining about what we might as well work I think that didn't see lettering to won it earlier that six times but it's probably a little hit up and then the consumables like that might seem  \n",
      "\n",
      "Saved as D:\\Models\\Bable\\bable-v3\\bable-v3-7000.pth.tar\n"
     ]
    },
    {
     "name": "stderr",
     "output_type": "stream",
     "text": [
      " 13%|█████████▋                                                               | 7999/60000 [1:03:53<7:13:40,  2.00it/s]"
     ]
    },
    {
     "name": "stdout",
     "output_type": "stream",
     "text": [
      "[63m 53.99s (8000 13.33%) 1.08]\n",
      "hey really hurt enemies and then they're not intended to complain because to get those like temporarily is a Jah there's a lot of stupid doublets they're always the fact that make my home and I was landency you're like you miss you know I know you get in the same away from time to the next deal with the devil dude kind of shit here that has been so first this is looking at a bomb beggar and you know like some charge is expecting to bring it drop the goddown into the deal with the devil here you do our damage is like a little bit more doubling as good for us here and I guess I'll probably absolutely horns I got a old mathout 2002 I should have been me so much mother or something like that there's a little bit better the good nerva I mean it's a little bit here a little bit of a take this where there's not that bad this is not very good special things like the item like so I don't know if he was a big store run so don't what happens an actual frashit and not but sweet to ad I think I can't still do work here and the right episode is a pill if you know what that's that's not gonna be not quite as sacrificial dagger I don't know how what I'm to subscribe the trinket I think I'm thinking maybe a very nice synergy that I know that if think that you know why is a better for clump ready think a lot more of the best way stop assuming there's no it's not really take a deal with the devil and and our damage into the cost getting the blood usage if you were as an issue stuff fight about this one up a little bit more ringworm in the shop but I'm always heard and void or it brother days I think it's not a regular climative dog I took help fly from me here I guess he does our shot that's not what I'm talking about some extra percent chance that I prayer that's gonna be like you know and a half of a minute of saying and still surprised with the head of the dark bomb here because what if you can't even make sure that I build the curse room that's okay I think we could emplecture out of \n",
      "\n",
      "Saved as D:\\Models\\Bable\\bable-v3\\bable-v3-8000.pth.tar\n"
     ]
    },
    {
     "name": "stderr",
     "output_type": "stream",
     "text": [
      " 15%|██████████▉                                                              | 8999/60000 [1:12:30<7:17:13,  1.94it/s]"
     ]
    },
    {
     "name": "stdout",
     "output_type": "stream",
     "text": [
      "[72m 30.90s (9000 15.00%) 1.06]\n",
      "hey double my own if we end up going to the shield time well I don't really care about the time I don't know when they want that no grandford great and range up and pick up the spikes just we could not for a risky which is pressure a to-d-ground that we have time to see if there's a car but it's more HP because you know we don't really want to see multiple post put it to me it's a single one's good room we do is obviously worth the world's keys and there's no real boss rush if we get going going on with this all right good damage upgrade no son gives us the absurdly crashed the damo fanny pill and then also the way it's not worth going here could give up that first here it's a little bit there I'm gonna take it seems kind of like it now with time we got enough and we got to go for the more deal with the devil we fight hush we could go go dad's key to reroll right now that we're better but that's where we should take little dicey but we might have taken on error chance for the negative one who was it and hope for you mean you know the one thing where in the worst to the deal with the devil seven coupon just like borrility called the hermit right there because i don't think we got another one were getting a deal with the devil have so we've got hit like a win in the hopes of like maybe it's not the present so that is like I say that it gave me the world about that yob tool golden tail is pretty much got a the the same way to get something to go down to the next floor will give us a chaos happen to us or something like that we really have none of those items that's better there are anyway we don't have to do explore for the worst week is gonna be our odds really not trying to use the cherry runs which is actually so good it's not a win it's not damage or something like that but at this point it was the speed but the score that we do it really really good and then I would prefer to like it pickup and we'll take them the enemies so that maybe now we only shoot a few item so \n",
      "\n",
      "Saved as D:\\Models\\Bable\\bable-v3\\bable-v3-9000.pth.tar\n"
     ]
    },
    {
     "name": "stderr",
     "output_type": "stream",
     "text": [
      " 17%|████████████▏                                                            | 9999/60000 [1:20:40<6:42:58,  2.07it/s]"
     ]
    },
    {
     "name": "stdout",
     "output_type": "stream",
     "text": [
      "[80m 41.20s (10000 16.67%) 1.04]\n",
      "hey're bad and gotten as possible is doing to take items in the sense that allows us to get all the first floor but I was I thought I probably have a great trip for the fact that we could get a bell whatever he seem to try to items like if we get a deal with the devil and so we're gonna get hit but if we get a great deal with the devil we get to the the biggest room I never actually I am gonna take the power but it would be a little silly exceptional at least have garbage safety items like so much money to get the pacation and  okay so I I think we'll have to be able to use unicorn stump play that I was a good thing but sincerely and it's okay to become guppy that we use it so we'll be able to fight the rooms mom's heart here and on the next floor and even better than experimental that Buttoutrit damage and going like a positive for us to try to be that good range down there gives us a hot every charge by the way could be real pretty well that we should be able to look at five cents all right all right we just ended up getting off but I don't really like to be able to get the dark room for five cents on this floor where we really should not go back to my dumb possible and this is a bad box baby and the right time to take it with nine lives as well but I don't want to explode of course but also a real bad but I'm gonna get a little bit considering that why not really high one come on us to find the bone hearth and four videos and I say hey there's no breakfast in the carrid are like should give it Tammy's head I'm okay but just did clicg a little bit like the run now that signs of trinkets more consumables that's okay that's what I was thinking to use bombs to be like what was actually like was a tough which is because we will go to the secret room I think that I think there's more like extra floors so that also gives us more than black hearts for handles so I guess I have to continue to like stay at least I have literally forget the secret room because of the chance to \n",
      "\n",
      "Saved as D:\\Models\\Bable\\bable-v3\\bable-v3-10000.pth.tar\n"
     ]
    },
    {
     "name": "stderr",
     "output_type": "stream",
     "text": [
      " 18%|█████████████▏                                                          | 10999/60000 [1:28:51<6:30:05,  2.09it/s]"
     ]
    },
    {
     "name": "stdout",
     "output_type": "stream",
     "text": [
      "[88m 52.36s (11000 18.33%) 1.05]\n",
      "hey I like my decisions and I don't know if I remembered the bad jokes in a vampiration it's a little bit more dude it's just about thrown me out our damage still got timely I still don't know what we will probably use a heart that we have an incredible about it because we should end up having to take the mom's key enough money to look a great room and it's like the value value right now the foundale even should be fine in our on the next floors that we have a great deal you know what I think probably probably should say the maximum sense I'm still like the the d6 of course uh we mostly save the pentagram right now to have enough HP might as well just work our curse room and we got a guppy we'll just keep using a little bit potentially of coal so you know that shit on the chest and it screw us a great opportunity to use legan chances and an extra Kelep like a you know the one right now there was a decision and I'm like I know this is our only teacher the puberty stats so I'm not sure son on this floor there is we're gonna play it now let's not even manage to get like a single key before we got but we're pretty much exactly the streak we should start doing the ability in the month maybe and we're not you know change that Isaac's heart we got no no no no more the muscles some though it's not that bad I think it's the same time I shouldn't have a hundred percent has gonna use it all right now this was a really it sounds like it's you know in the count like I'm gonna knock me my pill is that a lot of timeller must be well having to figure out with the right chance again I don't know also that in a terrible spot I know I can almost don't really even always go for a long time probably no that we save it now it's just like I'm not saying the straw on the run that doesn't make the spirit heart and of course subscribe as much as we still have like something I don't want to go for us to get this guy will take it and Lazarus room like the only get some good ones that was pretty m \n",
      "\n",
      "Saved as D:\\Models\\Bable\\bable-v3\\bable-v3-11000.pth.tar\n"
     ]
    },
    {
     "name": "stderr",
     "output_type": "stream",
     "text": [
      " 20%|██████████████▍                                                         | 11999/60000 [1:37:02<6:25:42,  2.07it/s]"
     ]
    },
    {
     "name": "stdout",
     "output_type": "stream",
     "text": [
      "[97m 2.93s (12000 20.00%) 0.99]\n",
      "hey okay check this anymore in case on a better pill here and the odds of it and if we want to have two bombs for the the reason you know there we go we got really guness and you know what we kill your teiristory for spirit hearts I don't know if we get close here that we can't even look at this room you know a lot of these are and it's a spear at on an enemy I think we're at a second secret room although all these absolutely so I can feel pretty nice coming up here i don't want to save the future for the two and then I'll never been a little bit more likely this stone chess I actually feel like the rest I just want to play it and then like more and then get hit anything as pretty much in the middle what's the worst thing about it we got Krampus oh my god that we did the mob trailer yeah I have to be the only trick at least an item that was a little bit of a paid I almost got to take both this is the price I'm an adult you know and I was like the boss fight for like the speed and our damage but cheap unoteless with the spirit heart damage pretty not really happy to the best real finally this is a first period of the but that does not Google then we actually like it's gonna come in an item there but I don't think I'm getting my must's okay that's a little bit of a great and we're gonna get a spear at heart but that's okay and that was a turn of your plan there yeah you can do this there's like 20% of the runs what I find myself we can put delirium basically to take some key here i will even regment might as well take it you know what we're gonna do it when we want right now and we're probably fairly likely to avoided a potential opportunity to get the hero font time to tell in and we will find me cuz it does happen and imagine there's a selfight let's see what this big room yes it's worth a bomb escape and it's not that it's so good and makes you low now that we can get out of right now there's a lot of laugh the speed that being a good damage will be a good damage is g \n",
      "\n",
      "Saved as D:\\Models\\Bable\\bable-v3\\bable-v3-12000.pth.tar\n"
     ]
    },
    {
     "name": "stderr",
     "output_type": "stream",
     "text": [
      " 22%|███████████████▌                                                        | 12999/60000 [1:45:11<6:26:41,  2.03it/s]"
     ]
    },
    {
     "name": "stdout",
     "output_type": "stream",
     "text": [
      "[105m 11.79s (13000 21.67%) 1.03]\n",
      "hey're like I'm waiting it's worth the one to be like the soundtracky I don't think it last and just inconself surround maybe one more position probably come on is a little very good but you know get a little bit of double people don't like when I realize the thing I don't think that I know he should say here but it had a game of it both summer of earlier of the improving me okay exactly the electructures it just makes me so better than anything using spiders would be hit it because we have a lot of person and by getting a little bit unless I apologize here in a big ten though it didn't get more keys in a weird lifesting or tweet situations we had holy many red hearts this is highly not that it matters the end of the time as well but meaningful is all the rest of them I don't have to go to our curse you know larger and then we have to fight mom's knife thing and these are we so good and get the potential thing thank you that was a speed down but it's for you and then they want another life if you did click the like button outside of course you know what I mean their split people who ever has my letting this and we would get approces let's see what we got to go to our curse room and it  if we get hit the chest on the cancer or something like that we can do oh my god here we would have a better chance for the first point pick up in the future but it's a little dicey okay so be it because we have to go to the shop yet was makes it look at the nightmario direction like we don't have any sense so I think it's it's like the last run I really think at I played it all the way good man we should be the kind of a yeah that's my own words all the streak comes our position but it seems like the only thing I'm going to see what we're doing things going on what's making a joke and all of our invincibility which is gonna be confusing to play it let's hope should do the second secret room and then we'll be able to have had a little bit of a huge or can be a great chance of good mascar \n",
      "\n",
      "Saved as D:\\Models\\Bable\\bable-v3\\bable-v3-13000.pth.tar\n"
     ]
    },
    {
     "name": "stderr",
     "output_type": "stream",
     "text": [
      " 23%|████████████████▊                                                       | 13999/60000 [1:53:21<6:43:45,  1.90it/s]"
     ]
    },
    {
     "name": "stdout",
     "output_type": "stream",
     "text": [
      "[113m 22.06s (14000 23.33%) 1.02]\n",
      "hey would not be a little bit more damage like this is why Kadal and not the mouth on Isaac's dude because there's something and just focusing on her boss actually enough money is the deal with the devil we don't even have to be coming HP but I don't think it late survive and we got mom we got to go for a full survivable with the catch of me you can even go fight our damage is not good it's a i-am of the way this doesn't really became extra bomb for free we took another chance of getting it every luck to more bombs to a really good choice but still really content to get you know perhaps we might have the chest we can do about the soly sense of like platin was gonna be to have an or should have gotten a I want to you know make it associated if you haven't gotten it but I'm close to the Hermit card happen even more you know he doesn't matter that's all we need the streak in the coffee there may feel dangerous and brimstone and we can here I would very much be chaos card earlier right now but we can't blow the the key anyway for a teleported oh it's almost a deal with the devil probably a lot of situations worth it on this run I mean I can blow up more old more than we just got over it's taking hit by combined with the speed upgrades in the large class going to check out it you know it's a much be great of course wow that does to be able to worry about the work because I have an extra HP and we got a lot more knock something mlass fight machine not because we'd stick with the deal with the devil we can get there here by the way even more pills to me and getting the body or like I wasn't really would be like come on you should be that dream I guess I don't know if that should give us one two spirit hearts in that existing room that's okay we're gonna fight good stuff so we are all charges on the womb on this floor we are a little reference a chance that we can be something well it doesn't really have the most part we have enough cards all right to survived not for a while  \n",
      "\n",
      "Saved as D:\\Models\\Bable\\bable-v3\\bable-v3-14000.pth.tar\n"
     ]
    },
    {
     "name": "stderr",
     "output_type": "stream",
     "text": [
      " 25%|█████████████████▉                                                      | 14999/60000 [2:01:32<6:01:53,  2.07it/s]"
     ]
    },
    {
     "name": "stdout",
     "output_type": "stream",
     "text": [
      "[121m 32.71s (15000 25.00%) 1.00]\n",
      "hey no point off there's enemies that big this is it's not worth it if we can get it in this jam person here if we can get it I mean we do want to be worse I should all right now we can afford a lot of time we don't need to get to that some pretty dissage you know oh no thank you so we'll be happy to save it like this seems to be very very very seriously that it's not an you might be able to get into the very least happens possible for us to get a deal that we stand boss rush pretty much easier in a fun that's not a good chance and we're gonna be so askin that we want to be good it's the odds of it but that would would also be pretty good we can get on your chance but it can get some bombs in there they might be able to use it here really but I can make that money because if we should be way so I'm going to make the rerolls we have a nice damage bonus from our deal with the devil I do may never have to figure out what we took the last run is the designers this is like a tinted rock no I guess it's what I'm thinking right now we should be over that guy who is the roll my result of having a chest and then we get one movie before that maybe it's gonna be useful even though it's not really that really really good and then we'll run this really good so we're gonna love this don't take them and that's gonna be awesome that this is good but if I could clear so much that I can cheers at all those are very easy speed right now I mean sign me a speed up is actually gonna take car battery thing for us we should take damage and that's what I'm talking about with like a non sure we already to spirit hearts so I think I'd be saying beautiful with the last one but it could consider that it could even hit the streak but that's okay already huge by teleporter and we could actually live full spirit heart deal with the devil that was probably going to get nine lives is all right we got finish the room I think we lost for that one strett run because the character as I am I would be a litt \n",
      "\n",
      "Saved as D:\\Models\\Bable\\bable-v3\\bable-v3-15000.pth.tar\n"
     ]
    },
    {
     "name": "stderr",
     "output_type": "stream",
     "text": [
      " 27%|███████████████████▏                                                    | 15999/60000 [2:09:41<6:05:06,  2.01it/s]"
     ]
    },
    {
     "name": "stdout",
     "output_type": "stream",
     "text": [
      "[129m 42.34s (16000 26.67%) 1.04]\n",
      "hey have a cash and I think anyway so we are gonna say as soon comes out with whether or not that good and we get down my own chance to get back on the center item room we have enough money to completely really worry about if we can get two of diamonds you get the etem has not get a video getch two bombs here but at the the concern right off in Vancouver Jack has happen for this you know the confidence is like you know NL well I do not concerned the you know guys at the pressure of your status of electation what do you think you're saying for the fact that they are being the name of a part is that it's the small fish but first off I guess we were doing the mini rooms we can't teleport out of there there we get hit once we have gotten like overlling should be honest with you have a chance to get the idea of which real beggars as well is thanks for watching that is our character it's a huge interesting starts goods right now we want to keep better I want that different position that was the right on the way of the strough now it's a stomphy like I'm like that is it could have been not we can actually already see in the future we get like Bob's curse in the sunsoly and see it and then like the Isaac I think we need to go to the quarter that gonna see you the only every time we needed a little ridiculous I don't think it's the hard to say like we're going to again they might as well check out eventually we're gonna have this room could be that bad I love to pills not a deal with the devil on the last one tears up for that movie I'd rather often with this all right there may somebody out of here and we got teleported for the shop we still need to have a deal with the devil items on these guys in Isaac the way that we have nothing okay again we got to pick up mom's knife and then we'll look for a deal with the devil down to the next room at least either of the bullets or ever heard the streak of the rest of that blue baby to affected at least the secret room when you try the \n",
      "\n",
      "Saved as D:\\Models\\Bable\\bable-v3\\bable-v3-16000.pth.tar\n"
     ]
    },
    {
     "name": "stderr",
     "output_type": "stream",
     "text": [
      " 28%|████████████████████▍                                                   | 16999/60000 [2:17:56<5:49:47,  2.05it/s]"
     ]
    },
    {
     "name": "stdout",
     "output_type": "stream",
     "text": [
      "[137m 56.80s (17000 28.33%) 1.03]\n",
      "hey came out for the damage upgraded moder shows up a lot of damage I'd be like oh you know you don't as well be enough but I don't know how to know what I was going to be there until you know there's some survivability so we got an Episode are you kidding me a lyrics but if you're like oh there's speed if us because this shit I mean it's a little ridiculous like make you know that's that's still going to place this like button upside of what we didn't sweat effects because of the fact that it is great star would be kind of you know what I will tell you that the real the ticket mom's part of the rest of the heart four hours on the line he was still like oh well you know we're going to look up from years again good play with that effect or something down for me that we would get a key long time that you know either the long-term there we go we get black card definitely should wire just getting hit on his run you like no you large and now we got the key don't like that one bomb for not basically 12 hours and me right now it's the point with the speed upgrade on first we could have done the mega Satan as well worse and then we have here um so we can get an entire a little bit more often and getting the place for us to get so many enemies on the really important sour there anyway I hate that you know the last run but you know in so we got teleporters I was gonna say when you have to go you know what give a feeling strong and he's like I've got me from his let's fight mega fatty that i play unless we really want to go faster to full hearts but that's okay maybe the loop and she does it i mean you might as well probably just go fast here i'm just try to get me nothing to be an experience and I think you know beyond again we have to spend a black heart we got lucky high damage is actually gonna be an intention to name me too many enemies you can't benefit to you look at a year boy PhD for now thanks for watching hope you guys get on this run have to say we should just played  \n",
      "\n",
      "Saved as D:\\Models\\Bable\\bable-v3\\bable-v3-17000.pth.tar\n"
     ]
    },
    {
     "name": "stderr",
     "output_type": "stream",
     "text": [
      " 30%|█████████████████████▌                                                  | 17999/60000 [2:26:10<5:42:34,  2.04it/s]"
     ]
    },
    {
     "name": "stdout",
     "output_type": "stream",
     "text": [
      "[146m 11.00s (18000 30.00%) 1.00]\n",
      "hey found Hamazins so we're actually hitting him for some points of stuff on the first time as any altervant well the reason what the fact that we can get the blank card with some times of course they're too much but I do think that the enemy being a lot of people who have been it's a joke here I guess yeah I think anymore but and then I'm not being free I want to do it our bombs not having the Mulligan gay food of the the big room so we could have done it on the boss rush and take a free curse room we get another key because it's a very easy while use it here and I think we have to do it but it could be a spirit heart if we can get a lot of consumables on this floor to see if it's got it we wouldn't mind if that's a difficult rock might as well do it it's considering now that I now is that but you know that day I don't know my vocal full-hell of all that one hand maybe they said you get the idea you're shop in another food there does not enter the the head that's stuck in and will still be an easy way not a Canadian I don't know what I'm trying to basically got the angeli as it's a it's not as positive items is also it really that happen but we do have to break into it and we can solid there's no reason I would be awesome but when I was interested is this confirmy is like this is a said you know you want to do something did you should be a little bit of fighting them all the time you got to do it but you know they all always have the he's just so cost so you need a key good good ability to teleport out the dreat drops here but that's okay I should say this I'm gonna do that happy with what we get to the boss there I don't know if it goes it gives us more is annoying and it was not guffy now we could have walked into behing some more cube are gonna buy all these this run was a bad hail bit here don't have the guppy copy of boss rush we would like to get hit I can't remember as you might as well buy the d20 that you take the speed upgrade for a penny it just deservedly  \n",
      "\n",
      "Saved as D:\\Models\\Bable\\bable-v3\\bable-v3-18000.pth.tar\n"
     ]
    },
    {
     "name": "stderr",
     "output_type": "stream",
     "text": [
      " 32%|██████████████████████▊                                                 | 18999/60000 [2:34:19<5:47:04,  1.97it/s]"
     ]
    },
    {
     "name": "stdout",
     "output_type": "stream",
     "text": [
      "[154m 19.63s (19000 31.67%) 1.01]\n",
      "hey're like oh there's one hit is also positive and shoots is good okay good spot but it could be all trouble the devil is not the kind of guy so what I would probably go to our shop at least we'll take the d4 as well well we used to do a boss fight on this floor we going to feel like we're gonna finish the other item in one rune back there because I think I assume that you know so they have a great room if we just grab it pretty much this run probably I thunder the last one's interestably so that we had how for that half hard to get in the game and you know I'm trying to say that yeah that's far to well there's one or really history that's not the mind duplex of video games last chance to like mean it's good here but may be a little concerned about simplers which is way no problem brother Bobby you know we have a win at this point I would rather have like mob to wrong it would be awesome we'll pick up a lot of damage that could happen on this floor with forget me it's you know what it is basically coming on shows up and then I could use our second secret room and then we can get a shop and it's not being in a copy reason we might just be good right this way i just cost this extra HP and I don't want a speed we do have bombs usage probably worth this we don't have either quick that has to work out it's fine I don't think so our lifestly a little bit good enough but it's good that we can do is perfect time is worse with the pony and binding of items in a boss that would be a speed upgrade need to succeed book of Belial but I do all for it I think we're going to expect that Justice absolutely and i think we just got a black card and that's probably good and so we're gonna win you could go down to the curse room and I would like to be a little bit of a super opportunity on the next floor I shower we should be able to make boss rush bombs have it it's weird I'm gonna say maybe we'll see all right we didn't get a floor and then I sort of like loss to the shop it was like on \n",
      "\n",
      "Saved as D:\\Models\\Bable\\bable-v3\\bable-v3-19000.pth.tar\n"
     ]
    },
    {
     "name": "stderr",
     "output_type": "stream",
     "text": [
      " 33%|███████████████████████▉                                                | 19999/60000 [2:42:34<5:21:26,  2.07it/s]"
     ]
    },
    {
     "name": "stdout",
     "output_type": "stream",
     "text": [
      "[162m 35.41s (20000 33.33%) 1.07]\n",
      "hey good concern in my mouth gets better sounds like a third of a blue market not to sometimes the boat and she annoying but what Lup doesn't paid forward gotta reroll on a great bosses so far so we're gonna take a sell that we can actually use it in a game too he care of myself get apparently on the void in the future for now thanks for watching and I will do about it thanks for watching if you probably could have gotten him down the holes strange as well is here or we're gonna leave that happen to save us because it gives us some sense leaving off and we have to see if i guess you know what we got mom's knife we have the chance to be good that was easy it's a mom's knife subway it still said and the way that comes down to the next floor so I'm just gonna take whatever it's money magic mushroom and then we'll get out of boss rush it is that it's definitely not if we get but it can be but it does have to be playing presumably being like a there's an insurance for this you know what we do want to go to the tears upgrade there's one thing absolutely being fair but at least we won't wait me no question mark but the storysell at the end is like well we can take anything but there's a spear at heart is concerned about our bomb and then we'll consider knock this room what we use it later although head now that I'm not gonna completely think that you know if you can slow more temperance immediately or anything right now the good one is gonna be real weird example I'll be pretty stage or something like that give me a high damage that's that's the worst watch on the floor so that that was so much and then there was more damage every single penny and this is our secret room which is gonna be a little bit more it's the first place of mind that's which I've never stopped and like let's take the point I was like on it you know we're not really in a thing that was fine on this room that we got literally no pack here I don't know I'm not gonna do this it's got a no-brainer but it was \n",
      "\n",
      "Saved as D:\\Models\\Bable\\bable-v3\\bable-v3-20000.pth.tar\n"
     ]
    },
    {
     "name": "stderr",
     "output_type": "stream",
     "text": [
      " 35%|█████████████████████████▏                                              | 20999/60000 [2:50:51<5:09:12,  2.10it/s]"
     ]
    },
    {
     "name": "stdout",
     "output_type": "stream",
     "text": [
      "[170m 51.66s (21000 35.00%) 1.01]\n",
      "hey need to walk into a net on the background the boss room anyway to like you know if somehow hit me no question is can always get you you you know when your run it would be so phone what a ring work on the end of our our number one of the injurrican bones and stuff like that on boss rush let better it goes to bullshit it's so bad the golden chests in the great run we're doing a one or shot spirit heart and I will push one short love instead of this run in like a visuals or somewhere thank you how that's it up you know you're like oh well Jenniferent Dae sort of that I've ever had I think we're gonna be doing and then so I'm not walking how it stump and it could be a little bit better I think with qualiture I'm thinking if you know I don't really want to cut out that you try to have a your HP should use a deal with the devil on the ground still in the next floor well pops up and that's how we need to do what we got ready for the wrong team contain and then that's kind of like a hot town on the first time and they had a pet to the blood bank that was like worm we've done it in the process but I don't think we lose an addition but teurage but I think it's it's okay though he says over it that's the whoop like just cuz I've got a little bit of a different situation in the answer to the deal with the devil no shots probably our 180nd plus like three and maybe it's transfournnated I'm so poor dim and don't be in the other side with the map to to you know 360 at all things but I was like where i'm not saying really puts you not a wild was like probably shouldn't be this is like the skill I suppose even though this will it would it be a lot better about it nice as you can see what we're probably like a bomb here that's the number one so I was like why not give us a bomb here to we could pick this up here for real nice we're probably gonna have a that but it is okay the screw about I would rather have a possible tears upgrade the money to show up if we want to make sure that  \n",
      "\n",
      "Saved as D:\\Models\\Bable\\bable-v3\\bable-v3-21000.pth.tar\n"
     ]
    },
    {
     "name": "stderr",
     "output_type": "stream",
     "text": [
      " 37%|██████████████████████████▍                                             | 21999/60000 [2:59:06<5:25:37,  1.95it/s]"
     ]
    },
    {
     "name": "stdout",
     "output_type": "stream",
     "text": [
      "[179m 7.23s (22000 36.67%) 0.98]\n",
      "hey even talking about what we want to try to do damage again we're like this run a little bit more likely that is the fact that it did we made it through the second floor okay who were not doing a surprise of a ran yet but it has like rules is the fact that we're in time we get the HP upgrade is something happen at least uh you know that all right we can get but for now like we fight like you know what that because I want what maybe we'll buy a bomb I think we're gonna spend like a shop shop we find an error room I deserve the hit here and good as we can because like new on because the compass being the compation already there's a little longer than a medical reason i think this is whether or not but I'm actually about to say we don't need my cloth probably a no really slow I don't think the one you know it's not a great red heart to get a really really good and then we should teleport out of the fact we don't have to say it the than because I'm happy about it if we get some more relatively good we got through well we're just looking forward you know I  I've taken on the scenes with the the triest spiders you fought hush but no not to get to the penny odd we got a snap dude here even though we don't need a run where we could actually have a pretty easy boss there for long term so we got something here to save us all right so I do still want to get good and I felt like a worl word I will tell you I'm still gonna be a little bit of a very few situations out of this floor now I'm gonna do here as well not not going to be the point option to get something that we had those what another perspective I don't know how to the wrong key that we can buy some items it's like man down here how much I've got someone to go into the doges but like I was like wait he's working out I wonder you know oh you I wasn't they're like hey the ack well I guess that I could have steal to throw Bob's broken okay then we'll go because what are I've completely buy a bomb down like there we go the  \n",
      "\n",
      "Saved as D:\\Models\\Bable\\bable-v3\\bable-v3-22000.pth.tar\n"
     ]
    },
    {
     "name": "stderr",
     "output_type": "stream",
     "text": [
      " 38%|███████████████████████████▌                                            | 22999/60000 [3:07:23<5:14:20,  1.96it/s]"
     ]
    },
    {
     "name": "stdout",
     "output_type": "stream",
     "text": [
      "[187m 24.50s (23000 38.33%) 1.06]\n",
      "hey're doing so many help ok so let's not maintain the opposite high dode doesn't really work out as well I want to say that what I would like the run is more than bombo lazar it's all I'm saying okay there's a really really dumb there that's what I'm worried that there's one of my personality I just want you to the chat and over to a little bit you could do the of Michael freaking spiders ago whenever like it's gonna go out I'm not gonna stick with that oh my lost run I just want to keep it up but it doesn't even end up being the kind of sort of shove might be the tick anyway no deal with the devil which is a throw relationship on this floor we got Austin Polaroid how many of the shops and only one in fact we could have shooting the boss marsion of the gauze and what if we could actually be the first order of when we can save the room so we don't have to hope first honestly we do have a speed upgrade right now I'm like by like there was a fan of the level at this point I know what I was looking at this point so I'm a great news right off the bat or run where you got a lot of HP i'm pretty unlikely but it's not a health up because we want to get to the deal with the devil chance oh no wait we will come back and you know you can get any more damage will cry it's a self-sacrifice room return to northern line from concept to go like possibly pick up them to get a spirit art back about our money we need to be a little bit of a deal with the devil here again now we could have an internet is almost asfuckin to get to that I don't know who says I can look for that increases them to know but I think it's a tough item because I'm like we just have an extra bombs as well I mean that was really easier good but I don't think that would be like a fortune card on this run it's uh stuck with a fool or a huge damage that we lost balls yeah this is what I'm trying to suck the Sun card and too bad so I mean he's see a special room wouldn't have taken the stats to stand on a run let's ha \n",
      "\n",
      "Saved as D:\\Models\\Bable\\bable-v3\\bable-v3-23000.pth.tar\n"
     ]
    },
    {
     "name": "stderr",
     "output_type": "stream",
     "text": [
      " 40%|████████████████████████████▊                                           | 23999/60000 [3:15:39<4:47:16,  2.09it/s]"
     ]
    },
    {
     "name": "stdout",
     "output_type": "stream",
     "text": [
      "[195m 40.02s (24000 40.00%) 1.00]\n",
      "hey could be a little tricky spirit art or a little bit of an oution is bad but we could have old and if this makes it a little bit more flat or is a secret room and you know the the course is good like I get a secret room in the future for now thanks for watching and I'll see you next time \n",
      "hey everybody welcome back to northernlion expense it's up a little bit more than I would be one of them like I know the time to do like deli of Isaac is that means that we were still working out with the job off like we picked up a that's exactly this now to maximum we have nine lives as well it's gonna show up all things oh well we were able to make sacrifice room I'm going to have to get a perception of used you know I guess it's giving me a testament is fulcoshical here it's like I got the hope of people just do that I'll say it's not uncomfortable only the case is okay so as far as I would be like why did I see a lot of people are like who land as a beard million and just make the Isaac noble Mide's not to say it even more taking a little bit of a super probably knows the game for my HP that's a skull first necessarily the collection but it didn't work out for deals than I have 10 or some him if you're able to do it sincerely after what if we figure out what the way and we got carried here but you know just back it up our runs useful but I don't mind just like we have a fortune on it at least a little bit more intended by that oh it's a square time here I think the spirit hearts and know what happened to that I'm not that good it was terrible item right now I would think we're not gonna compress your damage succubus like fairly amazing deal with the devil on this run so I think I want to generate their you got to get ourselves in there going at this point not good enough like we could always need to know where we're going to win it's not not too happy about our shoe in the future and i appreciate it this is good this is an item run we might as well take both of our chances of  \n",
      "\n",
      "Saved as D:\\Models\\Bable\\bable-v3\\bable-v3-24000.pth.tar\n"
     ]
    },
    {
     "name": "stderr",
     "output_type": "stream",
     "text": [
      " 42%|█████████████████████████████▉                                          | 24999/60000 [3:23:56<4:51:43,  2.00it/s]"
     ]
    },
    {
     "name": "stdout",
     "output_type": "stream",
     "text": [
      "[203m 57.42s (25000 41.67%) 1.00]\n",
      "hey're a big deal with the devil see it was actually a deal with the devil here I guess you could be a little delirium that seems pretty unlikely to explode and we want to go to the curse room or something like that on this floor already this is a patch to the same bombs it to our shop anyway we do have curse of the tower combination that you're gonna be good for reason but with one spot and it's like yeah you want to go love in the future but on the one that's three red hearts I think I gotta say that on this run when we are on we get some use the spirit heart and this makes me say though I don't know if it's worth not good we got via the devil on the world and I don't want any more time about this run statistically yeah it's racistential about gratiness we could have made it out of the faster all right we're probably gonna get a spear at heart skill enemy if we find ourselves here if possible for blue baby if we get down to like a single room ok we want which we have mom's hurts anybody health by there we go we still got a red chest but we got a red heart as we get back in there in the stat of peace of minis some good examples to me bosses on the keeper crickets body we should be getting like a golden chest with the d6 so I think we've already have a teleport card we still have to have an arcade on the next floor in a situation in the game but since we're not doing exactly what we got a while I'd say what a better deal with the devil and we should be able to take down technically like we got red heart so I guess I'm looking for itself if we can make it up that was a better larger we could also get rid of having done is good enough to get fine still well maybe not we're in no extra key it's like our last sense because the bloat is actually like well we'll see what we got so much half of our boss are gonna take the tower of sweet that mean it's not not gonna get some good deals with the devil I think if that's not dead here one hit now we're a little sensible there we' \n",
      "\n",
      "Saved as D:\\Models\\Bable\\bable-v3\\bable-v3-25000.pth.tar\n"
     ]
    },
    {
     "name": "stderr",
     "output_type": "stream",
     "text": [
      " 43%|███████████████████████████████▏                                        | 25999/60000 [3:32:11<4:42:06,  2.01it/s]"
     ]
    },
    {
     "name": "stdout",
     "output_type": "stream",
     "text": [
      "[212m 12.23s (26000 43.33%) 0.98]\n",
      "hey you made a shame of a couple of times the premium for us to get like a lot of responsibility for like the freaking movie I don't understand it and I don't know I don't know what to get out of the way but no spirit heart we have a second second but we need to donate to re-roll it right now because we were gonna get some rerolls and with a really good time to get necessarily at least one extra content to go to our shop you know our secret room is what I'm trying to do this room it gives us more confident that was hard in a good damage you know what the guy in my opinion you know I was in kind of looking better but oh my god he's the best of my time to tell you it's like 20 minutes I remember like your parently why are you from the HP tunnel producer get into the empira-any student of the early province so I mean they're like you know I don't know three seven crew not that you know if you want to be a hundred your hand and I am i'll send the bombs kind of pressure or the whole scheme of this floor but you know I'm looking for this and they're to have that deal with the devil Joker card we have to win those like you know the blood bank that's the end of kill the chaos got the potential to take you lost enemies that got the odds of the fut um you know what we've had because our speed are perfect it because it doesn't have a chance to take one of the best of course if we can get rid of the tiers upgrade all it's not like we don't even have to pick up lust is because we're you know I don't think it gives us the poop is fine all we need any of them it was what we were gonna work out right away on the less than we could end up being something to find this one we'll finish the $8.6.0.0 in the bat start because we got to bounce on the way out of the possibility we don't understand that we're going to be able to be able to get picking up here that's close to what I did see if we can get the run instead there was a little bit worth not accessing the job done I'm okay with this  \n",
      "\n",
      "Saved as D:\\Models\\Bable\\bable-v3\\bable-v3-26000.pth.tar\n"
     ]
    },
    {
     "name": "stderr",
     "output_type": "stream",
     "text": [
      " 45%|████████████████████████████████▍                                       | 26999/60000 [3:40:25<4:27:21,  2.06it/s]"
     ]
    },
    {
     "name": "stdout",
     "output_type": "stream",
     "text": [
      "[220m 26.43s (27000 45.00%) 0.99]\n",
      "hey're like oh my god with me take two hits right away course and we got some truly happening you know we use a little bit better than the next floor that gives us a shooting in the course of that value out but I don't know what we want to do what we want an advantage unless we get a deal with the devil increase to our continuum speed is that you know like here's the thing in the world that made you archefloo we do have a spirit heart at least we got HP really happy with this item we're already a Krampus to get hit four rooms a deal with the developers you know what I don't think we're doing what I was really happy that it was a such bad ability to fly we have like that now I'm extremely nearly dying for the item room before he would be the most close to the entire lives and then reroll me a consumable of pill that we lost those shot more peaced right now but maybe I saw this will not have messed this we don't really have a full red heart get out of this room there yes okay let's go to the rest of this this could still be the first room and now we still have more this many conditions there but I don't really know maybe you see it because it all from the HP that I think about it there's an opportunity to sustain because we're gonna get money or we get a good choice to get a chance oh that's really at least here and this is my life that has like one of these items doesn't matter well what it would be here do not have a mictor we'll lose shots but we'll go and I think we'll explore this out of the argument that gives us to talk towards him for the more you know like that whose watching this is the lifetime you got to I say it I think I don't know the hard differently so we get through this one here we're gonna be able to make our game is not gonna rather use shots us to have the access to the large flight or as it's a dice room that is sweet to get more but that's unlikely to get the first one of the big rooms for example one more you know as much as possible now we don't \n",
      "\n",
      "Saved as D:\\Models\\Bable\\bable-v3\\bable-v3-27000.pth.tar\n"
     ]
    },
    {
     "name": "stderr",
     "output_type": "stream",
     "text": [
      " 47%|█████████████████████████████████▌                                      | 27999/60000 [3:48:39<4:16:15,  2.08it/s]"
     ]
    },
    {
     "name": "stdout",
     "output_type": "stream",
     "text": [
      "[228m 39.59s (28000 46.67%) 1.00]\n",
      "hey we could have definitely need to have to to like those fan man but our last run looks about Pokemon should say and my eyes so street those enemies which is nice as well maybe if it's a terrible position we can take the spirit art ball of bandage and then the end of the two different Empress happened and in the staggering service of the game and motherfucker it's one of the boopes of this and be like oh that cuz you know we are not we can reroll the bullshit as far as this is kind of like right to we can put us on our boss room because now we're gonna be got the fire with mom so I don't want to wait fine we do become guppy and then beave a speed upgrade we did forget that we got to get smaller money on the ground a month as close to spirit hearts there are some times on where people an idiot then a weird property based on the double key run you know it doesn't have al magic mushroom and a nice stream run for a win and I was making me a nine pill and of course subscribe if you get hit by somewhat deal with the devil chance and that time did we use the standards larve room that being sitting oh I got a it's a real not even that good and that should won't be the end of the time the pressus so you know there's a bad deal with the devil right into the chest we're doing fine and then we could be charges that I'm not as far away anyway so I'm really gonna take some of the tiers because you know what I'm gonna try to brow the other thing we could give ourselves a deal with the devil here and it fine because I'm paid out to the mom's knife based on one another a card it does do there oh no the really good explosive one and as a third card here but I would say a second if we can get the stars range upgrade or at least but it may be a contest and in our first room I don't accidentally fight our majority of it we did you know the love at least we should be a little bit better somewhere okay you get a look unlike some to my consumables have saved us the way that they'll be like  \n",
      "\n",
      "Saved as D:\\Models\\Bable\\bable-v3\\bable-v3-28000.pth.tar\n"
     ]
    },
    {
     "name": "stderr",
     "output_type": "stream",
     "text": [
      " 48%|██████████████████████████████████▊                                     | 28999/60000 [3:56:51<4:10:32,  2.06it/s]"
     ]
    },
    {
     "name": "stdout",
     "output_type": "stream",
     "text": [
      "[236m 51.60s (29000 48.33%) 1.04]\n",
      "hey give you the Hubreal starts that was like several time now we want to make it happen but if we did the world's gonna do anything for us and it so double a bomb so the questions which also remember I don't know why I think like I like that just on the run watch on the other one which she was a general and well man just a lot of damage but for now thanks for watching hope you enjoyed it if you did you see that they just be factor in one least we could have just got to be so well sure that we can't get a full health pill on this one we eat a little bit of a strange right now despite having anybody but one item and just many people and the nomeness of all time with the the same thing all right well that's on yeah I'm gonna take the ability to use it down to the next floor with it we'll be a little bit of a big feevori and to be honest with you I don't even think that's the worst call but double the upside for your entire weighters and screen from them mighty retinked more than one reroll into a way to really oh that's okay this would have been more possibly like every fun but we don't have to get a deal with the devil but it's 31 um even a little bit more red heart with fighting an item room and then we can at least solve yourself and then you say like a little close to the grocery store that's gonna be I think forever we still got no consumables here we put me go to the background so we just heart anyway we got a better and up we did not get hit that's the the rocks which I think as of starting to get we will use it and bounce the thing on the opportunity that that's what our shotting right now would be but we fight you could have gone a lot better on this floor and this anymore and I was gonna stay avoid is he's been breaking empty version of the great deal I fought Isaac was it worth it so alright there was a very strong damage bonus where we start to get good enough to get drops we got HP we took and then no deal with the devil if we get a bomb even go and don't ge \n",
      "\n",
      "Saved as D:\\Models\\Bable\\bable-v3\\bable-v3-29000.pth.tar\n"
     ]
    },
    {
     "name": "stderr",
     "output_type": "stream",
     "text": [
      " 50%|███████████████████████████████████▉                                    | 29999/60000 [4:05:11<4:14:52,  1.96it/s]"
     ]
    },
    {
     "name": "stdout",
     "output_type": "stream",
     "text": [
      "[245m 12.27s (30000 50.00%) 1.09]\n",
      "hey reaction in these tathers from you know you take the same ass good milestone here but so like I'm disappointed in here so we'll buy a hundred percent and and probably don't really know we have to teleport out of the spot for sure we could like maybe end that the artists the mega Satan unpopular one so you know that comes definitely should go Babylon Silbert and then hangover we be and I was not I'm a little bit machine but hey you know you don't want to you know buy something I'm locked inside bars I'm out we're gonna have any bombs and that's stiming now the secret rooms or you know with our own honestly obviously we'll come back right we can really do that we're gonna do this room so that's awesome not that bad it is like some ten penny we would have had guppy so that if we wanted to go into our shop cool item room it's not like it's not the way fuck me on this floor in order to be a good time and then there's the shot speed or something like that but you know it's it's a bad person whoa set up and I put on a hole reroll here to the context of compass to take the spirit art you don't need to lose an early on on the second majority of items in this case our files because I was thinking my opinion or I really don't want to fight us from a deal with the devil why not expect to be at least I should be misericating that doesn't happen but it's still like I don't want to go to our shop on a reterminently a card is probably what we went through this room and then just complain bad mom's knife but I'm not completely shitty about but we already mean it could but we got in hearts and a possibility in a bit of a cool room and the baby as a result of the practice if it's could use it and that won't be able to get out of our equal chance to get the fistula you know the the other one you can go into the curse room or even got to be getting better than the entire run like a favor this would be super run where you might say the rooms is gonna be a good floor where we can accept  \n",
      "\n",
      "Saved as D:\\Models\\Bable\\bable-v3\\bable-v3-30000.pth.tar\n"
     ]
    },
    {
     "name": "stderr",
     "output_type": "stream",
     "text": [
      " 52%|█████████████████████████████████████▏                                  | 30999/60000 [4:13:37<3:50:15,  2.10it/s]"
     ]
    },
    {
     "name": "stdout",
     "output_type": "stream",
     "text": [
      "[253m 37.94s (31000 51.67%) 0.98]\n",
      "hey was like I could pop what the mask he's like you go here yeah I think we could get a very good item where you got to have to see a lot of one of the first twelves is a funky we get a book of rate of fire so I'm a guess all right we got fourth because I think there's no one that doesn't count as the luck I maybe leave but there's just making Book of Shadows a little bit too quickly and making monstros luck but I don't know where we will definitely allow us to actually do a little extra charge at least would be the wrong problem so instead we started to face there there as a result of the pill one of the best items I will keep that right now and then of course and like theoretically we might get that you know if you could cheat every room and maybe try to get respawn as a result of this run we got some kind of charge haha just because I'm doing this we're gonna play as long as we're going to be able to wait the black heart if we get over in spite of its 17 minutes with that for you because it's like you know what we can't use Guppies head like a big deal of course deal with the devil provide our deal with the devil we're not going to kill that on this floor now we should be totally one guppy that deals we get a breagher even though what we're getting the hest it's like really good set of minutes there so we've had a better chance to get a connection of needs a win we're gonna fight the map I mean I'm gonna roll with it and then the game which is a touch drug right now but you know like you know we got the dirty at least I feel like I really get close but or is a big fan somewhere oh that was actually like two and stop the only thing we could still lose an X please got crack in the world oh that was great damage that hole with that regardless and it'll have any use for dull razor and I think we win a big room as hello you know Joker it's a sub-pot lung and I'm like you know you get a chest I've got a three floors are good all over never get them plus where the heck pe \n",
      "\n",
      "Saved as D:\\Models\\Bable\\bable-v3\\bable-v3-31000.pth.tar\n"
     ]
    },
    {
     "name": "stderr",
     "output_type": "stream",
     "text": [
      " 53%|██████████████████████████████████████▍                                 | 31999/60000 [4:21:49<3:55:46,  1.98it/s]"
     ]
    },
    {
     "name": "stdout",
     "output_type": "stream",
     "text": [
      "[261m 49.64s (32000 53.33%) 1.05]\n",
      "hey have it anyway so I'm a little faster right now why would be very very talented but I wasn't enjoying that but I was just in case you know no sense was it went on a song you can get on like the game but I remember that was like I get the challenge who was it also you know that you got no narrow will small a room right you know it's very teleported in which or the price like levels of potential I'm defined well I didn't really like the shots and it's a great item and then I was like well they'll do this that seems like well that's what I'd like to take me it as it is at least I did not I think we do well we'd be surprised it just tell myself to the hush fight the ranked us for the HP that it wasn't a continum transition which we also have enough luck than an anti grav except from this to go I got to be honest with you I'm a little bit you know okay anyway it's gonna little baggie is what I'm trying to play this oh that was a good item we're looking for an audience that was it's the next start of the cainer there we go high usefulness we can pick up like a decent secret room the hangman might be able to go to hopeful first this is a good run but hey I was thinking it erases at least they should have done here but anyway I think it's probably a one-yeah we do have some not enough better than the emperor card right now so we're not going to it might be able to stop taking a little bit nice to be dead and I understand the even worse there's there's a few morting as I used to you know do  admittedly you know there's no reason we've had more likely our speed plus we're in getting a decent shot okay well we will get the head of myself and then by me at like oh my god there's another tinted rock here we needed ordered us we've already had a context that they very fun shit is pretty good I probably should say a battery charge it's the kind of shit we're not seeing like a very scared of the motherful room so we were playing a vision and these are really good damage which is w \n",
      "\n",
      "Saved as D:\\Models\\Bable\\bable-v3\\bable-v3-32000.pth.tar\n"
     ]
    },
    {
     "name": "stderr",
     "output_type": "stream",
     "text": [
      " 55%|███████████████████████████████████████▌                                | 32999/60000 [4:30:05<3:44:34,  2.00it/s]"
     ]
    },
    {
     "name": "stdout",
     "output_type": "stream",
     "text": [
      "[270m 6.08s (33000 55.00%) 1.01]\n",
      "hey mental what's the way this is because it's a little substantially but I like our last entire floor out of this one we got a black card immediately give me the fly as is like we actually want to miss house that gives us HP that should go with how much damage and then what I'm gonna head down to the next floor but i want to stack up the chest could get a bomb but we got a pick you though and we have the ability to kill our pace way life goes on that are our red hard but I was like hey that's right in there that exercise it best is a like a teleportation claim but it's okay it's one of the worst and you're really talking about you were like hey we still have not been hit and then we have enough of it before it was but the caves on the chest is helping us here because we have some angel room now Wow that's not like if we want to reroll it for example pretty terrible okay now the keeper remains plan there are something to be okay I guess we should go ahead not bad it gives us a good bomb and there's no reason to use content with my reflection so we have it into a narrather on it yeah the keeper just but it would be killing alistable items because our damage is like HP that we started with my reflection is not bad we can shoot any macro sense to have a luck upgrade and we'll take the battery chest deal with the devil if we have two of like a crap out of this we were you going to see some of the answer is like well we can take this we should actually be very good about that one this is alright we're going to use it and in the last run and that is triple shot I did not really in a compass a weird way I think that's a pretty nice lower secret room from that the other thing here um you know brimstone come on we got two territory is like tagiops in the the the bomb we don't need it and we're using it but we we figured we'll see what did you see this and that's for us here I am doing that too much in the back don't really want to get both but that's a reasonably lucky per room \n",
      "\n",
      "Saved as D:\\Models\\Bable\\bable-v3\\bable-v3-33000.pth.tar\n"
     ]
    },
    {
     "name": "stderr",
     "output_type": "stream",
     "text": [
      " 57%|████████████████████████████████████████▊                               | 33999/60000 [4:38:24<3:32:32,  2.04it/s]"
     ]
    },
    {
     "name": "stdout",
     "output_type": "stream",
     "text": [
      "[278m 25.11s (34000 56.67%) 1.02]\n",
      "hey were like you know when I'm gonna be all statistically in the book that's a pretty good spot but then maybe I mean I'm not talking about moment people made the ultimate picture for it that matter there's a curse to bomber we got out of here oh my god we got the dude the fight pretty nice by the way let's see what it's unfortunate you know the most person here I will say it's not bad already I think about it that love our shots are gonna be valuable why not take some HP and I've actually used to take a lot of them are so bad so we can't get a hundred percent chance of it to throw it out we got to get out of it on this run we should be like oh come on don't take the negative mom gets them endless style amounts of damage well we have a guaranteed to spend more bankings are gonna be very simple I'm very small to say about this right now if you imagine thanks for watching and I'll see you next time \n",
      "everybody welcome back you know maybe it's got to be cool tears okay oh okay got a double-edged room for us but obviously good enough to surprise it done when we stand for important might be the the boss rush in the future it took a little bit more fun with the team right here it's not a weird opportunity to make Sangor Mosh film said fates here our damage so to actually will tell what you see the cat here I think there's any other spiders so as long as you can get the world but more ideal quickly enough to push it and we could maybe been a little too slow is not bad we can fight the game don't do the route consumable into our shop for the the lady in the ronal head of top of any HP because we're like one here on the rading and still a huge death for the rest of the day that gets saves it also having to open some more damage might spot our deal with the devil pretty normal swinging protection on this floor probably better so we got blood rights out of it but I really just suck up a bomb there you know there's a tinted rock on the desire to get to the HP don't actually get an \n",
      "\n",
      "Saved as D:\\Models\\Bable\\bable-v3\\bable-v3-34000.pth.tar\n"
     ]
    },
    {
     "name": "stderr",
     "output_type": "stream",
     "text": [
      " 58%|█████████████████████████████████████████▉                              | 34999/60000 [4:46:47<3:26:06,  2.02it/s]"
     ]
    },
    {
     "name": "stdout",
     "output_type": "stream",
     "text": [
      "[286m 48.03s (35000 58.33%) 1.02]\n",
      "hey played his one by the way this could care about the streaks at that bomb and I'm pretty starting to get up to the end of the run look for straight 1 is a great deal here we don't have a content we don't really care how do I care if we can save it a shot so we definitely want to save this yet anyway um okay let's want to go mom's connections anymore this is not worth it I won this that for sure even though I said of course we get ducker that's not that's what I was all around to myself considering that we have to get a bomb again adentional I got a pizza accidental a week and I was talking about on the screen where it isn't been like the second secret room I see these bombs or are they'll hit the best way to really you know they'll have a range up on basically a great deal of course subscribe you wanna see most of the time so close somebody do not take issue we're actually fighting some deals to spirit arts down there but okay well oh there will check out our followed by stuff and that could be a bad play there I should be honest with you I at least you know teleport out the time my most didn't spin this for establishment and they're gonna donate like a little bit more dangerous mostly worthwhile do you want to get like a 13 to 3 6 3 7 1 oceauntations that helps out a great deal twice and mom's run we want to do for the cake right back yeah we are at the boss trap room I guess would not even must be a lot of extra HP it seems like the loss of our run at this point but I don't think this is pretty bad like that's not just not like absolutely really i don't want to do it but I mean I don't know what I'm gonna do some more than the red heart damage dealing we had a spear at hard to teleport out of it anything that we are actually looking at that item like that's where we still be able to potentially follow though even if it's something interest but anyway I don't know if this is the other thing that am I gonna stick with media adult gobby if you didn't paying and we'll \n",
      "\n",
      "Saved as D:\\Models\\Bable\\bable-v3\\bable-v3-35000.pth.tar\n"
     ]
    },
    {
     "name": "stderr",
     "output_type": "stream",
     "text": [
      " 60%|███████████████████████████████████████████▏                            | 35999/60000 [4:55:08<3:14:39,  2.05it/s]"
     ]
    },
    {
     "name": "stdout",
     "output_type": "stream",
     "text": [
      "[295m 8.91s (36000 60.00%) 1.02]\n",
      "hey especially if you want to know Josh so there's a character than you ever see this on a situation right off the bat we got to be honest with you we only have it back there so on this run is what I'm trying to see what we're okay and the angel already that we can go to our HP in terms of time to buy something and you're gonna choose to you know play between your get a little bit of a compensate man and then they call it a shadow don't really want to be worse than it looks like the only thing but in a way like gun there was should give it the one that is not bad but it was worse than not because you know we're done oh that was a thousand times and then we can teach money what do I even approcape that that's awesome but they're probably this is really good you know what I'm very said I'm one of the guys are not a good idea in the future without getting I guess all sorts of any cash that's enough benefited by teleported out that I can use it now we can take the Sun is actually a pretty option I mean I don't think I just the science I'm just I don't think it was dark bum we probably will do to it but I was waiting for that or they're in a way because you know there's no part of a half shake the fact that  and you should take this we got here we're gonna go with the whole run earlier even okay forbing them at the same time to be in the future now we've gotten a deal with the devil chance it we can come into a full charge and then chocolate milk wreck bombs to be real straight on average okay work but I can see the spirit arts so we're like a despite in the process than you do this room are going to get the boss fight even though I really do not want to get some kind of different plays right there if they are like a single again until we find the second secret room here we got consumables and pick it up and make sure we're a little bit of a comment way much time that it's kind of like to close to a better position apparently trying to say so we can just get down actually w \n",
      "\n",
      "Saved as D:\\Models\\Bable\\bable-v3\\bable-v3-36000.pth.tar\n"
     ]
    },
    {
     "name": "stderr",
     "output_type": "stream",
     "text": [
      " 62%|████████████████████████████████████████████▍                           | 36999/60000 [5:03:30<3:06:28,  2.06it/s]"
     ]
    },
    {
     "name": "stdout",
     "output_type": "stream",
     "text": [
      "[303m 30.75s (37000 61.67%) 0.98]\n",
      "hey hit out but I'll be really amazing but we've got a bomb for this tears upgrade for the honest with you we need to use our pants breaking us cane so if we get like a Weyn because of the bus start is a you know you probably go what you know what I like I went to the wild the bill on that I don't think we have points that we can and it's a good pickup or at least probably get a blood bank ten bombs I mean we got a little bit of this one but still and we're gonna get up there or just being time to actually but that was my my sick I don't think it was pretty sweet all the answer as well but you don't want to do that much of a signal the other item rooms I could pop the chance that we've also mmstermarily turned my part I don't feel like we got one life and it has high priestess which is what I mean I only got it but hey you'd have to be close to you know what well I'm trying to not stop like what's the protograde here is probably not even gonna get into a speed upgrade and we don't deserve that right there so we can also have any anything and it's kind of you know a real good start you have a movie it damage stars would be the big room could have crickets body is looking pretty simple you know the spirit heart and the crapshit so let's try to get we have the but honestly we're going to go to our consumable to go on bite of the first goals or items that we can get this run should be a great story would have rear old in my life and the rooms is decent and rag bag of course you know what I mean six dollar big spirit hearts those for a free like I hate that I don't think we need is a pretty good floor now we can get our blind room okay now I mean that doesn't appear to be honest with you and you know what obviously a bad range like it is a chance of making it happen when you finish the devil charge don't even start with the company buying enough money to break it down on the world like the the point I have no idea with about mostly low we're coming and then a lot of our mon \n",
      "\n",
      "Saved as D:\\Models\\Bable\\bable-v3\\bable-v3-37000.pth.tar\n"
     ]
    },
    {
     "name": "stderr",
     "output_type": "stream",
     "text": [
      " 63%|█████████████████████████████████████████████▌                          | 37999/60000 [5:11:52<3:09:32,  1.93it/s]"
     ]
    },
    {
     "name": "stdout",
     "output_type": "stream",
     "text": [
      "[311m 52.94s (38000 63.33%) 1.02]\n",
      "hey're not being real content to get a bomb there and we'll just take goat head even if it's a good pickup and the only thing is super run the more to imply great runs obviously even if we get hit and honestly we'll see if we have to worry about it we got to almost mean that but we also got a teleport from the fourth run technology would be a possibility I don't care about the same plan you got to do that I've accept that is gonna be an advertition right here it's now being out of these skulls in a position actually maybe that's something to go along this right now we haven't really changed that what a try to a great tears there's our recognize - that we put the Bible only the the point wow I mean that says that I put down technology to say on this room is complaint on  alright we've made a touch and hurt ourselves to fighting strength worth it you know we don't have another damage deal with the devil and probably beat the like option that we've made the good cards this is kind of you know we can't complain about the fact that we have to be poker pretty much the same way but that's okay you know what we can get the chest and we actually make sure that we can get rid of guppies head in the spirit hearts and the devil deal it's always a huge room right now because there was our transformation I would have been hit by the list is gonna be ideal obviously yes you it's probably gonna be an active item is the case I don't know in the internal heart is the differ but as a result of that but it can be pretty good that we have some of the the cower me and I actually I mean there is like right next to the chest that we probably do not choose to do is make this not necessarily about to say that the more bullshit spirit hearts okay horror damage too much about that the secret room pretty much remember a hundred percent of the grocery store directly a theme I worried as much as it was a company there well actually that our pickup is a little scary now right now we've been going to  \n",
      "\n",
      "Saved as D:\\Models\\Bable\\bable-v3\\bable-v3-38000.pth.tar\n"
     ]
    },
    {
     "name": "stderr",
     "output_type": "stream",
     "text": [
      " 65%|██████████████████████████████████████████████▊                         | 38999/60000 [5:20:14<2:55:48,  1.99it/s]"
     ]
    },
    {
     "name": "stdout",
     "output_type": "stream",
     "text": [
      "[320m 15.43s (39000 65.00%) 0.99]\n",
      "hey I you know curse Samson and you're really good to be like dude northernlion exploration probably my fault but I want to bomb our chance nun's habit of a battery charge maybe we'll probably want to be fine in there that the same as it is coming from in the secret room cuz it's it's a fire because now we have go taking it because the easiest run because that might be a fairly good damage but the poop has ever gonna take maintained we've ever gone through and maybe you know it really a complete because we can't at least give more of a minute because if we get four times nerf on the leaderboard into something the other thing that's see okay I'm the only problem is when you go in there I can't take it what are you right it in spite of all that you can scale it on this run even after a book and then after that I would they wouldn't I think that that is don't the best it's probably a jerk on this run on this one it stands when actually you got me okay you know it's a terrible spirit heart here every day we do have a single enemy but hey we're here also we'd be able to get enough money to take an easier deal with the devil is not quite open what makes me as well though okay the idea that because it really works is it a lot more damage but i would probably really hear me out of all that was going to be a day are the problem where we'rely better good rate of fire as Eden I mean we don't have to take a lot of flies and you know what a little disappointed with us in the future is not worth taking the motivation but I prefer as soon about it a bomb for a second card when we get an item that paid to boss rush that's gonna be a lot of flight sure I mean it just doesn't have a hard and probably as a result of the way that I heard that he's well where I sound anybody else is I had no extra character I'm gonna play and we still have man we're about this in the game I don't necessarily know what they're fine then still no reason really just made it to me on the trinket you know stick \n",
      "\n",
      "Saved as D:\\Models\\Bable\\bable-v3\\bable-v3-39000.pth.tar\n"
     ]
    },
    {
     "name": "stderr",
     "output_type": "stream",
     "text": [
      " 67%|███████████████████████████████████████████████▉                        | 39999/60000 [5:28:32<2:45:38,  2.01it/s]"
     ]
    },
    {
     "name": "stdout",
     "output_type": "stream",
     "text": [
      "[328m 32.94s (40000 66.67%) 0.98]\n",
      "hey give it a shit in the future we can you know stay in the process which is actually like a respatation for me to survive this is awesome and then you've been interested in this case bombs so that's so bad and we should be spider than it does happen it is these are the things I could if we can't end up wait there's our shots might let this happen now the hush fight but I can't be that bad but also like the kind of common stuff I guess I've been such an issue that I should have expected oh well you'll find myself in a good call that's what I'm a little ridiculous a little hold on the strenger is the extra dumb or to be some you know I don't know I don't really care about the source that's fine we got a world that's what I'm trying to say is maybe maybe not to look for like the dice room last hush fight we're still pretty good that's a strange item but I'm not phrased of a lot of working is it the context of the the spider because I was hoping for nothing there but we can actually have the dang rooms for the holy mantle power to like oh it's just like we got a last room going on and focus and then I think that's a lot of its enemy cuz I don't know what continues and that's not the only thing I'm I'm an idiot that could end up wait anyway so we're probably gonna get another chance to endeavered the ability to make it on top of that we have the money is a way the damage does not actually be slightly lemon party just a shot thank you so much with a second that's is a nice black market is that we don't know why we were going to stick with mom's knife you move this for that and I mean there's no way that's a weird position it's excited about the last daily but it is impossible for us to just realize maybe we'll get some problems here but we don't care about the fight so we can just continue to find a ton of money to check this our deal with the devil deal with the devil precedent is really really good but it would be awesome thank you I should not but it is nine lives with  \n",
      "\n",
      "Saved as D:\\Models\\Bable\\bable-v3\\bable-v3-40000.pth.tar\n"
     ]
    },
    {
     "name": "stderr",
     "output_type": "stream",
     "text": [
      " 68%|█████████████████████████████████████████████████▏                      | 40999/60000 [5:36:49<2:37:06,  2.02it/s]"
     ]
    },
    {
     "name": "stdout",
     "output_type": "stream",
     "text": [
      "[336m 49.95s (41000 68.33%) 0.99]\n",
      "hey've been able to diarrhea spirit arts we don't want to start Iceland it gonna do it but also gives us a curse room I mean I don't know how sure is that this is an interesting win hush that was my answer about this room and then here that she got the pill in the world and all out of making set at that point where it actually looks like definitely makes you large once we get these to result of that daddy long legs or something like that I'm pretty sure of course not many opportunities to take battery charge which we have chaos card that stacked up without a dodge and asked I'm like half of it does sorry you know how that makes me go to the boss but no it's not good enough so a lot of a that's pretty easily what do we have the speed upgrade now we're gonna get a lot of items that actually now though we will all right we got a bomb to not have a win another key for the deal with the devil but I would really like to become on intrintional demony episode okay and you know pretty unlike instead of hurry and then we can complain a spare a the food we are like we know what we've got the health with the exploration could to be able to use the razor some red hearts on this floor and I mean we could also like the feeling it would be awesome but we have a chance to pick it up if the the like would be a nend that's all about the wree red heart on this floor as much as I can try to get two deals with the devil come on with that but I'm a fake love the longer this is a tinted rock bad item that we're doing a spirit heart on the on that room that doesn't matter there we did take what we have the laser in the ass we got a spear at heart that's fine this is a big on this run the right decision save equilibritus I don't want to make me want to make sure you have a choice of a poop at the wending the sum it was you stop the run to deal money but at the same time I have a chance to play a reason to minimize on this floor as well now so we just can't have a guppy item there which is the f \n",
      "\n",
      "Saved as D:\\Models\\Bable\\bable-v3\\bable-v3-41000.pth.tar\n"
     ]
    },
    {
     "name": "stderr",
     "output_type": "stream",
     "text": [
      " 70%|██████████████████████████████████████████████████▍                     | 41999/60000 [5:45:07<2:37:35,  1.90it/s]"
     ]
    },
    {
     "name": "stdout",
     "output_type": "stream",
     "text": [
      "[345m 8.12s (42000 70.00%) 1.02]\n",
      "hey be like we should have traded that um yeah we're about to be in succubus dude I can say what would I be very good to write you know you have to say you know how to invite whatever results you're entitled both it has to say charged says the episode if you did click the like button insure which is why I think it started a run when the curse complaints I'm like I don't know good side but it's already destroyed I was a higher shots um and then and they throw up to spend on the next floor like this so what did you know like a bad idea we trick a shit unless you're not bad if the enemies and then that's what I maybe the seam expected you are not a win in the fire there's nothing to be underdogically I'm pretty sure there's like a great point has missing power now thanks for watching hope you enjoyed the episode if you did click the like button helps out a great deal but it's better to use the tinted rock in the wrong decision that we are waiting for the second time in this situation I was also just incredibly complaining I am very happy with that but I guess we don't need the stomp okay that we had a lot of bombs and then we have to string into this flies Satanic Bible some potata and I would pretty fly there's no way better but it's although I would like to be unicorns in our item room can't hit the possible room it's alright so like it was a little scientific Eve fantastic I'm feeling good I think I wanted to have it into the chest it's not like a space bar map which will take the secret room and never been steamrolling music about it for me to tell me okay it's like the dude are a dick in a grind your exact situation they're blue baby is it probably watch out it's not the second secret room I know they can get information and it was bad to survive it with his Krampus Loki's horns our speed then they're not going to like to come to fire I think let's check is there and then we'll be in I would like to shoot a bomb to take it or anything like that they're not valuable r \n",
      "\n",
      "Saved as D:\\Models\\Bable\\bable-v3\\bable-v3-42000.pth.tar\n"
     ]
    },
    {
     "name": "stderr",
     "output_type": "stream",
     "text": [
      " 72%|███████████████████████████████████████████████████▌                    | 42999/60000 [5:53:25<2:18:21,  2.05it/s]"
     ]
    },
    {
     "name": "stdout",
     "output_type": "stream",
     "text": [
      "[353m 26.37s (43000 71.67%) 0.98]\n",
      "hey have a win on our card that is fear is not very useful like an arcade on like our last floor not even fast and then we can stick about a minute of getting a deal with the devil and the ball of deals with the the bombs that might be an which case you're using him to see what we got three minutes and get a little bit more fun to be able to buy the greed fight to place the d6 to get rid of the spirit arts we'd be using every single Satan fight so we got the ready on the next floor I think which is great we got the experience we might as well be blank content worth more money on this floor it's good worse so there is a chance to get closer to us I think it's a bunch of spiders that are hardiness on this run ah then you know what that is not I would have been on blue baby and it used an interesting million but again it's okay so we got nothing to get magic mush pretty pretty easily Bumbo plus the enemies if we stop meaningless after the ace of coal doesn't matter I'm gonna see which is probably gonna be a weird one I doubt trying  all right now we are not going to be a little bit of a dream room that's that was just like uh if I didn't expect to have sadder I think we do something here like it's a new like they did it felt like the backgroom I didn't die in the other we got me all of our range upgrades we're back and give it a waste of death are nothing to write it that word for sure first of the deal with the devil man I do want to be there the poop it's not good it's not really like unicorn stump by a reason not to be stoked there and then they can be kind of like in my life 3 years of your brain into guy of course at least five items you're gonna try to make dad's reroll the slightly faster when gimpy fingumes and we can get one of the chariot card but we're not doing bombs we have like a lot of damage right now but it took us another item room if you and I haven't even've ever been using the d6 on some of the reasons don't want to actually guarantee in minds they're \n",
      "\n",
      "Saved as D:\\Models\\Bable\\bable-v3\\bable-v3-43000.pth.tar\n"
     ]
    },
    {
     "name": "stderr",
     "output_type": "stream",
     "text": [
      " 73%|████████████████████████████████████████████████████▊                   | 43999/60000 [6:01:44<2:10:24,  2.05it/s]"
     ]
    },
    {
     "name": "stdout",
     "output_type": "stream",
     "text": [
      "[361m 45.24s (44000 73.33%) 0.99]\n",
      "hey we were looking for a way to get that bomb can't really contain a little bit of a weird delight could have been closer to the shears and sometimes it's not worth it this is a good choice but the dream is effectively the hard take it by acceptable I was like we just got the heck out of here I'm gonna get to boss rush on this one is to teleport up a little corf than that is just exactly what we needed any bombs right on the last for this fight but we will go for a spacebar item I think that's made you as much money as we can we can use our homing tears between guppy items that was good enough to buy it for doing ready to get a really really good emperor card but I figured out if you get hit once okay and that's okay and our tears I think it's worth it we have like an arcade on this floor if it we don't have it at all times so we have a little too many times in there oh the prive that it you know it's bastarious are not the least made this man we do so bad in the closer to 30 cents for the merry damage now that's saying it's all about the weird movie is going to be a little bit here but like this I've been having a red heart but it could be like oh you never know that happening from this into the grown a lot of internet to exclusively the train of the stream from the hush and I said his actual like a seat on my down to it she's pretty not that far to me closer to to the things we bring it up a position of the haunt to think that shit on this floor but what's the thing is looking for save it and then sometimes I've been killing it again and it was time to kill the enemy it's more in the future for now thanks for watching and I'll see you next time \n",
      "hey everybody welcome back to northernlion plays a landicient desperate ate a harding to the chest as far as I'm concential to make a character on the same words with old mark means that it's an absurdity of it but that's okay not already been going to halo respect to it to play the day on the same thing in which can get rea \n",
      "\n",
      "Saved as D:\\Models\\Bable\\bable-v3\\bable-v3-44000.pth.tar\n"
     ]
    },
    {
     "name": "stderr",
     "output_type": "stream",
     "text": [
      " 75%|█████████████████████████████████████████████████████▉                  | 44999/60000 [6:10:03<2:03:31,  2.02it/s]"
     ]
    },
    {
     "name": "stdout",
     "output_type": "stream",
     "text": [
      "[370m 3.60s (45000 75.00%) 0.98]\n",
      "hey're going to do that more so I'm just gonna be true because I want to hope that I used to use this but it's my number one per floor we need to be too straight on this video can I really felt absolutely nice to find something at all right now we got trash I guess we don't actually do is spend a bomb and then we want to get to the charge you know seet the best so we don't disagree with this and just cuz you know some you know none but you know it's like a great deal of course subscribe you wanna see more in the future for now thanks for watching and I will say well that's gonna be like oh you know and that was very good remaining and it would it worked and you know what let's put it this way out like a spirit heart up what we killed the steam sale okay there's options on this floor we got a garbage two that's what's hooding book of Belial we could have done it I'm gonna try to make it really be honest with you I'm here to start with this bomb and there was a value out of here and just a great deal of course that's still a little bit to take Babylon pretty easily but all the bombs I think that rate of fire so far i just don't really want to worry about that so I'm still prinsitering some of the time then we're going to use it on the next floor we've got a sphere on the same time to get an HP upgrade for a little bit more damage dealing out of contract from below but that's okay either way it's all it's not that bad but i think it was incredible and maybe you're doing tickle the difficult to be a realistic twitch it's funny that Andre baby open what could happen that I've had a strange to me there it is book of Belial but there's nothing to like but they gave me the keys back there we go we can we lose this deal with the devil that's pretty much in there I didn't know the last episode that had a bigger this way I hate that when i use the first run so our boss rush and keep in using bombs on the first time so the dream in the next floor there's all this times our damage  \n",
      "\n",
      "Saved as D:\\Models\\Bable\\bable-v3\\bable-v3-45000.pth.tar\n"
     ]
    },
    {
     "name": "stderr",
     "output_type": "stream",
     "text": [
      " 77%|███████████████████████████████████████████████████████▏                | 45999/60000 [6:18:23<1:52:01,  2.08it/s]"
     ]
    },
    {
     "name": "stdout",
     "output_type": "stream",
     "text": [
      "[378m 23.68s (46000 76.67%) 0.99]\n",
      "hey we were getting into the rosary on the next floor does make him that's acceptable as a result of that either way that doesn't really do it but if we get hit okay unless we reroll drops a little bit more damage a little bit more from but that gives us a chance as well after that yet which is actually kind of consumables or a secret room the odds of gambler for us but I could have taken contact didn't access this money we got mega satan so we got going on up to 99 cents that's a secret room and who do I was straight up than you roll your life there the extra spirit hearts I should say that we actually know it turned into still fight for the other mom fights for us and if we can get this like the ability to fly which might be surprising you know then we have a second secret room because this late entrees we go on the next floor with a lot of items that's the kind of like secret room know strange so if you get a damage upgrade and this is come to look at my buddy versus an arcade in Shrenge of the country and every single of them technical disciplis that makes it out of it for us look at the shop and go and see how things look not the worst half damage there and we'll take another bomb the map is not even like 30 and will take this right now I don't really want to use this chest I think we have a full run relative to more deals with the devil so we can't die but anyway cuz I'm surprised that again I kind of want to stress on this floor but I mean we had that on the last floor for us in a script of a while they've been there so weirdons the streak so I like useful because I said that like a high streak is more than the get-out-of-jail-freely surprising in the next floor and it's hoping for champion good floor it worked we have no need to fight the hollow it is a little closer to this floor that's the kind of survival I know it's just the reason it makes you seeing the heck out of nothing like that when I'm going to go to you now it's it's a little bit of a the board oka \n",
      "\n",
      "Saved as D:\\Models\\Bable\\bable-v3\\bable-v3-46000.pth.tar\n"
     ]
    },
    {
     "name": "stderr",
     "output_type": "stream",
     "text": [
      " 78%|████████████████████████████████████████████████████████▍               | 46999/60000 [6:26:43<1:49:58,  1.97it/s]"
     ]
    },
    {
     "name": "stdout",
     "output_type": "stream",
     "text": [
      "[386m 44.14s (47000 78.33%) 0.98]\n",
      "hey're not going to give this a break is a nation accent to get into one and I got like Plus you think like I got a lot of damage but the reason is like gonna take two bombs in forever or it really what we want I haven't had a great deal of course does it make you admit is that it would be a computer but it shouldn't it's it's alright I guess there's a lot in the sandwiches and all of my bits that's what i don't even want to just get in the old there shoots me with point I'm not taking them will say we're not going to complain about it but it's okay it's got to be the fact that I was in the past here I don't think I was like completely consumables and then we'll see we get in the median so we can only try to that double cards for the interous and turnable immediately the soul of X anti great item because it means we're gonna be perfect so we got super dignist and then we'll try to use it on this room like the flies active of the open fighting guppy so you know I'm gonna go on the same way that's what I was also meaningly great for me but amazing I said about it there I'm making a game or something like that so I want eight brother is at late about it at this point alright we got a good chance of beat the bombs blow up our fly if our range is good because it's good damage is the right boss though this is completely better but I would have been there will be very good but if we're gonna have to take a hits so a little bit more important for us this room being able to get a little bit about it that would be I just realized that I was backy in my song I shave the fun they can't suggest the most party play just a body you'll be come to my friend then I don't know why I lost a loss I don't want to be horrible with like a reunion Buddronic because at least you know you still have the pill the run is sort of a little bit like when I was like human being is leach that's so much appointment in the future but if you're a run that's a shop could be worth a gun and that's still fin \n",
      "\n",
      "Saved as D:\\Models\\Bable\\bable-v3\\bable-v3-47000.pth.tar\n"
     ]
    },
    {
     "name": "stderr",
     "output_type": "stream",
     "text": [
      " 80%|█████████████████████████████████████████████████████████▌              | 47999/60000 [6:35:02<1:39:24,  2.01it/s]"
     ]
    },
    {
     "name": "stdout",
     "output_type": "stream",
     "text": [
      "[395m 3.17s (48000 80.00%) 1.00]\n",
      "hey're magic and you know when you can get cheesed of shadow you get the idea I don't know we're not doing a lot of damage here so we don't get the opportunity to get rid of it but I suppose and I guess this is a great where we go definitely a kill to get that spirit out I like the big bone when you enteless it's not what I was gonna go check these the pigs from teesert but honestly they can't move what I was an idiot and it's an unfortunate right now is bad but also the point is this the big that's a spirit are depending on what we're good we get down to like a picking up all of the angel possibly a lot of money we're done with magic much right now and I'll be two rooms on the floor yeah I've had can beat the the second of any freaking often dead mom's hard but the only thing puts us out really really guaranteed to get into the stone chest that we took a lot of damage there's no way you can fight mom fight it's like the shoulder man I would love it it I think we actually want number one it's got to open that item directly here and we're gonna be happy to think that we don't a lot of good items so we got some time not a good play we have a second because we hit him the IV bag I think we have like five cents for the bomb etc etc I don't know um we are aware okay so we're still good and a half sight let's just like this room of a teleport card personal time no it's a very good daily just and I know that seems to be a much appreciation well I mean I think this guy wonder the game we'll have a really bad damage and it's also so it's all the most hard as well but the next six dudes without less likely to be watching this since respect the same and breaking any kind of like impressed about you know what's hip with the thing back from Canucks are so dangerous and then I like it this should be individual serious do not get dark horns for some talking man I guess we did not take the cookie half of a range and we should pick up the amount of damage and that's book of sin and it' \n",
      "\n",
      "Saved as D:\\Models\\Bable\\bable-v3\\bable-v3-48000.pth.tar\n"
     ]
    },
    {
     "name": "stderr",
     "output_type": "stream",
     "text": [
      " 82%|██████████████████████████████████████████████████████████▊             | 48999/60000 [6:43:16<1:30:28,  2.03it/s]"
     ]
    },
    {
     "name": "stdout",
     "output_type": "stream",
     "text": [
      "[403m 16.65s (49000 81.67%) 0.98]\n",
      "hey we've got a lot of damage please I appreciate it because the streak is a bad trip like it seems like a relatively strange you know probably by the way I really we can buy a bomb right now I'm not categorient some way into the streak of course and you know what's going on what can I see what it is it's very very fast run is not as good that I'm not sure there's no good item that game pop it and we can have and amazing position at what the very impressive except to see hematemesis is like you know what the fact that I had the other thing is we have two times that we get a deal with the devil I think we've explore the the other wave to stick it's for it to be and i'll get the Brimstone's a lot better don't get a secret room but it is a better amount of HP and sometimes people out of you know I'm being able to do the other thing okay I really feel like we use Celt we're not going to get a guppy item head up lovely and no that could be a little bit here if I can use them the ability to push things with a 16 second opinion and we didn't get a deal with the devil it out but it was the late game didn't get enough damage to three points and it's something we're not gonna kill this shit but at the sat surprise they don't pick up the soul I'd rather be useful for a moment more even though I want to make boss rush at this point with the time there's our secret room although this punching bag and then we'll take it on this floor we're gonna take the skull so far so good I'm using this run right now it is for the ability to fly whum I can't believe we have the opportunity to get the card that we're not gonna have to probably control our final benefit at a time there to lose and also we're gonna take I'm obliving the rest of the side of the evil so let's go to the argument that it's a brimstone that's going to be at the same time we start with friendly bantage but I don't mind it so we're going to be starting to get to their car down to the next floor oh that's pretty much the br \n",
      "\n",
      "Saved as D:\\Models\\Bable\\bable-v3\\bable-v3-49000.pth.tar\n"
     ]
    },
    {
     "name": "stderr",
     "output_type": "stream",
     "text": [
      " 83%|███████████████████████████████████████████████████████████▉            | 49999/60000 [6:51:27<1:19:01,  2.11it/s]"
     ]
    },
    {
     "name": "stdout",
     "output_type": "stream",
     "text": [
      "[411m 28.37s (50000 83.33%) 1.03]\n",
      "hey're gonna do boss rush with more money here we don't have a pill like a bomb we have had we've already been low on HP on the next floor so you know and you know how are there and every stone delicious but it's like one of that point tille we have any charge that bombs that doesn't make any sense you make your dad's like that and if it is a real quick of carboard by them and now we're at one tarot card and I got to admit it's always like this is a bit of a wonder in the boss ten out as well this feels like it's okay give me the item room pretty well on this floor and it's a spirit are so disgustingly good yeah so you should have a once and and it were weird about that but for now I don't make the politely if it doesn't matter totally does with the ideal sort of sensible runs use chaos card and I would like something and then we pop it and then the money is like a completely pulls into the entire floor as well we don't have too many luck contastics and actually like every enemy thank you for the best of runs we got a pretty good position that we got some money all right we're gonna have it on his age seriously maybe the tower we have really this is doing more as long as it's a little bit of a far because still in the face instead of it when you erast the same floor then you'll problem you don't need to win now but every single floor okay I don't think so good with our shop so it may be a lot more flies there's no spear at heart in this room but I think the worst thing I don't even think that we just move on with the devire and that's what I well we've really appreciate the legend we had a little bit but we will just buy a spirit art pickup for us but anyway now I disagree because I was a little unate black opway to get kind of the most fun I am not using Bob's brains as well but a little bit because I don't took the room probably just you know a familiar with my thinking is weird if you do when you have but you know what that's kind of there for it that goes floor we' \n",
      "\n",
      "Saved as D:\\Models\\Bable\\bable-v3\\bable-v3-50000.pth.tar\n"
     ]
    },
    {
     "name": "stderr",
     "output_type": "stream",
     "text": [
      " 85%|█████████████████████████████████████████████████████████████▏          | 50999/60000 [6:59:42<1:12:34,  2.07it/s]"
     ]
    },
    {
     "name": "stdout",
     "output_type": "stream",
     "text": [
      "[419m 42.89s (51000 85.00%) 0.98]\n",
      "hey really thrown inside of this run actually we didn't we do this I guess I was a high damn baby clue put us but it's no so what the heck there I'm like you know what everybody you know I'm nice okay I will admit so I think we're gonna get our bombs we get to it so we'll probably like purchase the spider maybe we can get like two of reasons the deal with the devil over all these we could do it if we get a deal with the devil shot speed if it could kill the health upgrade we're getting the machine and that's right and I'm thinking this seems really gonna be in the sense we might want the score here and just give up I don't have a the secret room that's okay well that is another one because I think I'm a little bit of a pretty good enabler here it's a bitter one I'll be intending a lot of people take the situation we're the worst thing here in the future that that seems like a quarter is guppy and I'm also deliberately not it sure I'm not like man I wanted to watch like I like to say you know in there she walked to not get his parents that's a great time to take a lot of money streak first but it is a nice and a little bit of a town but you got to take our streak right now I don't know if his name you know it's a minor Carter that may have been something that I'm getting on stop we're not gonna kill every time I really have to be a little bit HP to recently blow up that room there I got rid of demon baby we've been beautiful got a lot of time to restart like we're on the deal with the devil very very low but it's actually clear the loss toxic stuff but I'm still being factor to get it in the early perfect item from forever shoot as much slightly lost rooms number one will vold rolling than more money is it the eadonic drop but also 86,000 is that you know this is a normal run loss their enjoying that it's a thing but it's not really that's a the fact that we do have a value out of this sorten baby and probably not going to pay out with that delirium we get some because  \n",
      "\n",
      "Saved as D:\\Models\\Bable\\bable-v3\\bable-v3-51000.pth.tar\n"
     ]
    },
    {
     "name": "stderr",
     "output_type": "stream",
     "text": [
      " 87%|██████████████████████████████████████████████████████████████▍         | 51999/60000 [7:07:56<1:05:45,  2.03it/s]"
     ]
    },
    {
     "name": "stdout",
     "output_type": "stream",
     "text": [
      "[427m 57.14s (52000 86.67%) 0.99]\n",
      "hey you know I was like I know I'm that's a great one this is yet let me know what I've been able to beat the tiers upgrade the extra spirit hearts would could be a quarter double latchkey or not we got to fight see what we get a horse upgrade so that would be fairly quickly so let's go fast enough that we got one more time and I'm gonna at all the bong can't heal me for a decent number two bombs per reason magic mush which is not very good we'll take maybe we can afford to get a bomb and we got the the cherry okay I mean we want to get us red hearts on the cathedral if we want to go to our shop on the cathedral you know charger and Bob's brain onion of any sense to be tempting we're in a couple of damage and just huge because we can anything at this point anymore so we still want any of those in such a great deal Rams I think we were like you know what let's see what we've been hit one here I don't have to think we just got to last the cards on this floor if I couldn't fight this boss safety spikes so we can we can use the pill is very parage in the next floor if you  well there we go before we do get to our shop this is you know we'll use that to be honest with you and then in a row I know that was gonna give us an acceptable radio deal with the devil i don't know what he would make a shot here but that's okay you gotta then we're like oh good floor it's all of my part and that's not a great run that's great but we should possibly get to boss rush or the chests that we could like it anyway now we have a very bad way out I don't think we've got enough money to realize that went with it and we'll be able to get nine lives we have to worry about this run because we're looking that we're giving up we're gonna go back and see a Sunday we think about the items at this point until the chest i'm not the greatest items as well it was like a huge get into our secret room from other tears and we're at fucking fast to kill this run a little bit is a great idea but it's still inc \n",
      "\n",
      "Saved as D:\\Models\\Bable\\bable-v3\\bable-v3-52000.pth.tar\n"
     ]
    },
    {
     "name": "stderr",
     "output_type": "stream",
     "text": [
      " 88%|█████████████████████████████████████████████████████████████████▎        | 52999/60000 [7:16:10<58:39,  1.99it/s]"
     ]
    },
    {
     "name": "stdout",
     "output_type": "stream",
     "text": [
      "[436m 10.83s (53000 88.33%) 0.99]\n",
      "hey we got starter dect decision and we got the devil honestly maybe we can be here maybe we'll relian consumable on the way to me I suppose not only true but you know if you don't want to use  don't use our time like it comes on the other side of my knife for the reason this seems took for now because wrong but we did get any leg now people go at a half heart feeling pretty name but anyway I know who exclusively happens we're gonna do this dogs to stand of boil we got selection of shit along holy mantle even if we stick with us it's essentially enough money to die uh so that we could get a deal with the devil chance with the future out of it there we go spectral teeth and turned out to get much good there is a ton of money out of of course ready to give us 3 HP and be able to get blue baby what we need to spend some financome that does lower up our damage but as having a spirit art off leave the razor too that room that's the most suicidale element because it's all the time in mind we should have used hanged we got these guys at least it's not good and use it on this stuff in my opinion or is perfect as well even though it gotta finish this and all of my favorite music after that you don't care but I want to say it apparently we'll get enough money to be a little bit of this to me but it took me as much damage is there and I was just you know i have no multiplearing Isaac's heart I love dark bum I'm just saying like I'm gonna leave that in a bad start for the next floor I always expect the spirit heart what I like pretty much guppy and then stackuble and our tears is on a reling anymore I was gonna say it's me being the right decision it's well let's let's drop up two rooms to handle it yet I don't think it's gonna be tough there is a full deck of a cursed chance to get this third I think it's just on a room by the way is kind of coming to the isaac run right now or guys eat NL hands less so I almost mean you can't say to 30 minutes that's not too many old us says som \n",
      "\n",
      "Saved as D:\\Models\\Bable\\bable-v3\\bable-v3-53000.pth.tar\n"
     ]
    },
    {
     "name": "stderr",
     "output_type": "stream",
     "text": [
      " 90%|██████████████████████████████████████████████████████████████████▌       | 53999/60000 [7:24:23<49:56,  2.00it/s]"
     ]
    },
    {
     "name": "stdout",
     "output_type": "stream",
     "text": [
      "[444m 24.21s (54000 90.00%) 0.99]\n",
      "hey know the lock upgrade there is a winner shot that we're gonna take the cappen because it means that thanks for watching hope you enjoyed it if you did click the like button help me and sometimes they sound like a little bit of damage and I was able to be in the box song like what I was gonna say it wasn't my own song juice is is being able to push their zannement a little bit of more HP than it is it's only like some sort of like this is like the the last floor come on not spirit arts to not in a particularily it's not a good pickup is doing the next ten bombs you just had the angel and see if there's a spirit heart or nothing else but basically you can even make it so I try to say it was so offense blah but still you know the lomb okay now considering the poop you want to go to the cursed room yeah you know there's two let's keep hangman what should be good like the strength card first because of the floor back if we get no idea obviously random going for the chance to go through this very very difficult time to kill the shop that was right we can succubus bubble survivability on to the boss first floor effect so like it would be our  I think it really has heard this is not really the loss I'm seeing to be out of control just wants to be a library in time now I think it's better than they're better than I was like you know it actually makes this probably not pinky is the first thing to be so close to the game in them being sick of the door here we're gonna do this but I was gonna say one just I put the chance to give a great position I'm starting to not fall it's not so just being all I need that card will kill for a taxi floor so we got high damage we had us which is almost done and save it in the bathroom with a step check in the linity but the difference in the right item plus a manuite like the chance of having using it explore but I like that please Krampus fight i think is not gonna start taking the pennies to it that's good but of all point played our own b \n",
      "\n",
      "Saved as D:\\Models\\Bable\\bable-v3\\bable-v3-54000.pth.tar\n"
     ]
    },
    {
     "name": "stderr",
     "output_type": "stream",
     "text": [
      " 92%|███████████████████████████████████████████████████████████████████▊      | 54999/60000 [7:32:36<41:08,  2.03it/s]"
     ]
    },
    {
     "name": "stdout",
     "output_type": "stream",
     "text": [
      "[452m 36.91s (55000 91.67%) 1.03]\n",
      "hey we got a decent deal with the devil we'll take it because we have never heard of the fact that we have my greatrian leader in this situation we're probably fiscult room it's a short a little bit as a tear it's a battery charge baby he's one of these characters on the second or something like that rubbing me out of the film right here but it's pretty good but I can already be at a tight spot at this point you can use blue candle which is probably on the floor I'll take it because we have a chance to get it we're gonna pick up the chance of getting a deal with the devil on this floor was that good here not really wasting that instead we're gonna get a bomb play the least depending on there all right we're gonna die we don't have a key dude I'm gonna be over I can fly for a radio of serious the advice like this and I think it's their favor of the day tax I'm at any place so close to one thing that's high I believe that because you saw out of our laser which is not as annoying except curse of the blind now you can use the opportunity to make this I think it's good or a dream this is not incredible I can't believe that they've got there for poison bombs as well we don't wanted to get something like that we want to take it right off the boss in the process is not very good I mean like what we're gonna do boss rush and then we'll head down to the next floor and it's got to be a good possible opportunity to see if we get a battery charge that get a flesh red heart deal but still it's a bomb I mean it will allow us to get a bomb for two bombs we might as well take that instead of Dokea for all the cancistain content that was a very good room for survives and all of a sudden we might as well buy a key to fly wow this late and premises when you know watch out with a bike their copies in the future and that's awesome you got to drop a battery in here and also just so you know we do not what we got to gain another which is better than good that was our last run by the way we're \n",
      "\n",
      "Saved as D:\\Models\\Bable\\bable-v3\\bable-v3-55000.pth.tar\n"
     ]
    },
    {
     "name": "stderr",
     "output_type": "stream",
     "text": [
      " 93%|█████████████████████████████████████████████████████████████████████     | 55999/60000 [7:40:46<32:04,  2.08it/s]"
     ]
    },
    {
     "name": "stdout",
     "output_type": "stream",
     "text": [
      "[460m 47.47s (56000 93.33%) 0.95]\n",
      "hey need to get us to that boss room if one spirit heart dude all right I should have gotten keys to get in bomb actually like a huge black room so we don't have red hearts or Sackbombs for the potential beautiful chance for it we have so much and we're going I'll take it again quickly give me the boss 7-time we still think the boss fight okay I don't think we're possible than that but for it unfortunately because we have one HP we're gonna get from the halo of flies a lot harder a run in this situation I wouldn't never hear like from the first to the shop worthwhile but it's it's just our second secret room will be a little bit more bombs i think it's killing boss rush yet we also have holy mantle here and we run past the fool card which is why I was right now if we just traded our Taurus right as fast and then we should be happy with decent HP that would be nice and it's a bomb I am a little bit void it's my last run we're still that bad here it's not like we let a theme we didn't get anything if we have to use it to go to the chest unless you do something up to you than some stuff I'm not trying to say ability to suggest to the screwed the daily tinted rock but it's not where when my head I don't know how to get the actual constillar key the time I need for it I like that room we have like that bow bombs it's a boss rush all at the thing you know a bomb guppy item I'm more than past this room is a good step of it how do you have a 10 years ago you want to probably know where I was like this is a prive at the time who cares about like grade and I'm just saying the cards because I feel like we could I would I was gonna say so if you have the boss we really want to see if I grasp one concern it's the same with like a good abiding thing but it doesn't look like I don't want to donate and the order to some or something like that damage you just stay taking a little easier enough to do what is pretty died the problem here I can't deny you Sace Dog Tata and I mean the self \n",
      "\n",
      "Saved as D:\\Models\\Bable\\bable-v3\\bable-v3-56000.pth.tar\n"
     ]
    },
    {
     "name": "stderr",
     "output_type": "stream",
     "text": [
      " 95%|██████████████████████████████████████████████████████████████████████▎   | 56999/60000 [7:48:59<24:18,  2.06it/s]"
     ]
    },
    {
     "name": "stdout",
     "output_type": "stream",
     "text": [
      "[468m 59.64s (57000 95.00%) 1.01]\n",
      "hey do it by now we got to deal with the devil we could have been saying you know the guy who break this time I trust what to tell me because I think that's my fault and I was realing it's kind of complete if you know because you almost come down right here we lost risk on this floor and then get hit that makes you larger so we'll fight the boss if we can open the run into a little bit much damage upgrade gave us another charge with you know here I'm a flatter right now but I can't take Saturday way to do the judgment was I got the key was shricking them to make it to 82 bombs although if we can just stop and let me get something else in a regular basis I think still too much but hey what do you do that not that I'm not going to work with it I don't want to see anymore challenge when you oh we got like some more options in my own narrow room I understand how much a voice alright so I think I'm probably gonna take the time and actually now we really need to do is detail for the best spirit art instead of double and I was a comment them not to look for that spirit art we can't get us into our secret room is a little bit less too much it just only gives us something to do that condition there as long as we can get out of the way that gives us a black card let's see if we can get the d8 and we get here I mean made it easier than having good pills holy mantle and then we'll just check this on the house in a weird one but at the same time we have one more spirit hard and balls of steel item to the magic we're gonna get out of there's our shots are gonna be a fond of an arcade or a are explosive oh there are a more good stuff we're going to kill a bomb to get a better run when I could just pop this pick up on this run it's a little bit of damage not very good no we're not going to have a reroll on our chance that they get a chance to do that situation weird speed is a little bit along here is actually careful but that would like some good problems on this floor if we can do o \n",
      "\n",
      "Saved as D:\\Models\\Bable\\bable-v3\\bable-v3-57000.pth.tar\n"
     ]
    },
    {
     "name": "stderr",
     "output_type": "stream",
     "text": [
      " 97%|███████████████████████████████████████████████████████████████████████▌  | 57999/60000 [7:57:10<16:35,  2.01it/s]"
     ]
    },
    {
     "name": "stdout",
     "output_type": "stream",
     "text": [
      "[477m 10.91s (58000 96.67%) 1.01]\n",
      "hey are fighting mom here well we got a trace of stats up and then the boss fight you know there's no concern we have an enormous pickup I'm not gonna do the shot there but is the Isaac way like that as long as we do go down to the next floor although in I guess basically we have mom's knife and then all because we are axes we're still there and then we're gonna shoot the ipeaven of a weird like let's do this shit there but maybe the discoveraction even if I want to access a lot of times in the future so we saw the cap out here enemies before we find ourselves back and with penetrallows the Outtardmed dramaine and maybe we'd be like well here we go once maybe even a spirit art and pick up some of the better stuff here but it's a bit of a deal with the devil whenever we can be able to hopefully get something else so much we don't need to win on the next floor is gonna get too many black canned it's been a frighten mega being a battery charge and like the dice room is gonna lase this video want to have tons of possibility that it's it's really that much that was unbelievable get a spirit argel as well I'm gonna try to kill if we get hit and we got a great deal on this floor and we got a spirit heart there but so how do we take a black market that gives you to not be sure I'll try to like secret room speed and then that's fine I was like don't pick up the boss room interest right now because I'm being pretty bad but still that it does allow us to see if our best chance at least use the deal with the devil isn't honestly another nine lives and that's okay and also get the deal with the devil chance and by doing but the more of a bomb back for the mom I was very desired I don't know if that definitely didn't hurt that up some people I'm not too learning a little if I decided a lot and then you know watch the curse room doesn't look like an amazing business I think not good enough I know there's no actual it's indisting this I mean that show up but what I was looking for my  \n",
      "\n",
      "Saved as D:\\Models\\Bable\\bable-v3\\bable-v3-58000.pth.tar\n"
     ]
    },
    {
     "name": "stderr",
     "output_type": "stream",
     "text": [
      " 98%|████████████████████████████████████████████████████████████████████████▊ | 58999/60000 [8:05:18<08:25,  1.98it/s]"
     ]
    },
    {
     "name": "stdout",
     "output_type": "stream",
     "text": [
      "[485m 19.05s (59000 98.33%) 0.98]\n",
      "hey it's laki of a quarter of them as an active feelingly very good for this room but we did get out of the key doesn't allow us to survive in you know I really thought it allows us to do it and we'll have to bullet out of here but he's been hit here and mega satan in the in there I mean I can't believe that but one of them assuming I go you know what the Sun car but a mispreciate that it's all about this run this is a dead end but it's balling when I say like a dishonalizes and they wanted to go to best friends with recent like oh you fight me there you go so now the life is a lot of people are actually being canceled you know it's ridiculous we're getting easier than but he doesn't matter to find out when you could expect to survive no matter Isaac I guess that would be how that up as a rock bag much really bad but it's just a one time for a lossic and that's the kind of game you know at the top of the bird is a gun there might not be like a seam as an extra spirit heart and now it doesn't take a luck upgrade in the first deal with the devil chance and it doesn't actually pick it up in the shop one is super content to be able to do oh good what a really big play a spirit heart is pretty much the end of the right idea what's happening on Nicholas to make sure that you play the chest here and then you couldn't even continue to unleast off first that's so I'm still not you know my boom boom I like a different speed is going to be a 50-I should say and we got kind of overpowered but I think we are gonna walk over here in this case I will say is a bit of a new item at all now Wow yeah we're making it out of our tech X is and then we'll see what our HP is a damage bonus to make it straight with that much but again you know what I'm gonna take for free in people are like I was gonna say I don't think we make the deal with the devil as well so I'm just kind of cool let's just put it thank you key I don't know what it is a little while and then he shouldn't be the same as I h \n",
      "\n",
      "Saved as D:\\Models\\Bable\\bable-v3\\bable-v3-59000.pth.tar\n"
     ]
    },
    {
     "name": "stderr",
     "output_type": "stream",
     "text": [
      "100%|█████████████████████████████████████████████████████████████████████████▉| 59999/60000 [8:13:30<00:00,  1.98it/s]"
     ]
    },
    {
     "name": "stdout",
     "output_type": "stream",
     "text": [
      "[493m 30.70s (60000 100.00%) 1.00]\n",
      "hey've got a couple of brew kills I'm moving the early and all of our actually good benefit the occasional personal tight downtownet could be worse and it might be better myself in this run as quickly you know maybe the most important movie just stupid unless a stupid they did my business ready for you to like a piece of a bomb to have it on this run and we should take the bomb okay we got to stick with this and from there there I would love to get an arcade will use magic mushroom then provide the game shot speed you know the odds of good oh you know what let's not use that bomb or sight and if we just get a blood bank there um it is our damage causes us up here you know we got nothing wrong with the afterbirth for something that I would feel relatively lost the damage on this is a boss item so you know it doesn't matter now I'm clever in my early change my body yesterday in one of the most likelihood either just turned up in a part of me I'm not trying to it's not going to be like I ome never changed it let's not it was really really fine that okay just to forget about that and that means we do this is not great right now it's actually only three minutes which is a terrible decision right now and there's a tinted rock that would be so bad space bar item we got to damage that we can get two spirit arts on the same okay and then we'll just be able to get it on the next floor these are not a silly haha we can actually be stringging the opportunity to be a little bit more dang to be so bad the secret room here were like I used to teleport on these well I didn't get a deal with the devil range but we're gonna do we're like a few rooms which we're not gonna take boss rush which is probably not that fast a little bit longer than that good stuff on this run but I should have been a good deal with the devil precedent that an extraordinary whore Babylon it's like a Larry jr. that's better where I apologize this could be a man which is probably the item room and honestly I can  \n",
      "\n",
      "Saved as D:\\Models\\Bable\\bable-v3\\bable-v3-60000.pth.tar\n"
     ]
    },
    {
     "name": "stderr",
     "output_type": "stream",
     "text": [
      "100%|██████████████████████████████████████████████████████████████████████████| 60000/60000 [8:13:33<00:00,  1.20s/it]\n"
     ]
    },
    {
     "name": "stdout",
     "output_type": "stream",
     "text": [
      "Saving...\n",
      "Saved as D:\\Models\\Bable\\bable-v3\\bable-v3-60000.pth.tar\n"
     ]
    },
    {
     "data": {
      "text/plain": [
       "CharRNN(\n",
       "  (encoder): Embedding(100, 256)\n",
       "  (rnn): GRU(256, 256, num_layers=2)\n",
       "  (out): Linear(in_features=256, out_features=100, bias=True)\n",
       ")"
      ]
     },
     "execution_count": 10,
     "metadata": {},
     "output_type": "execute_result"
    }
   ],
   "source": [
    "start = time.time()\n",
    "writer = SummaryWriter(log_filepath)\n",
    "try:\n",
    "    print(f'Training for {n_steps} steps...')\n",
    "    model.train()\n",
    "    for step in tqdm(range(1, n_steps + 1)):\n",
    "        loss = train(*random_training_set(seq_len, batch_size))\n",
    "        writer.add_scalar('train/loss', loss, step)\n",
    "        \n",
    "        if step % print_steps == 0:\n",
    "            print(f'[{time_since(start)} ({step} {(step / n_steps)*100:.2f}%) {loss:.2f}]')\n",
    "            model.eval()\n",
    "            sample_text = generate(model, 'hey', 2000, cuda=cuda)\n",
    "            print(sample_text, '\\n')\n",
    "            writer.add_text('train/sample', sample_text, step)\n",
    "            model.train()\n",
    "            \n",
    "        if step % save_steps == 0:\n",
    "            save(model, step)\n",
    "            \n",
    "except KeyboardInterrupt:\n",
    "    print('Stopping training early...')\n",
    "finally:\n",
    "    writer.close()\n",
    "    print('Saving...')\n",
    "    save(model, step)\n",
    "    \n",
    "model.eval()"
   ]
  },
  {
   "cell_type": "code",
   "execution_count": 11,
   "metadata": {},
   "outputs": [
    {
     "data": {
      "text/plain": [
       "\"hey mean this is it that's very until the second secret room is standing right now we're at our boss trap rooms to still still probably we're not going to take damage but in the course of the game is unnecessary with that as well but that's a direct player I don't necessarily probably play the final course or something like that I actually accept that was check the start of the line please just for like one of those of you this are well that's just a song stop that consciously incredibly different show in many ways that's my word right now we go in that fight but I would be like there we go and more or less in the game now you just must be able to do that for the next floor key I asked for it was not tricking a little annoying waves the biggest items we can actually get the damage is a little bit of a we can do this we got an exactly what we're still using a spear at hard deals with the devil I'm definitely a little easier to double the quality of my percentage of Brimstone's like it actually put it that was a passive item in the common card on this run is is still a little bit more fun for us and that would be awesome with that we have to know it's like a platinum it it takes us here we're so far back and teleport out I want to get any deal with the devil but you know what was not really fair about it red candle it is it's not immediately pain and most of the time I should have wondering that our shop is so much okay it's a bit of a hard tearting there is not that way that would not stick with especially but we're gonna get another tinted rock on this floor stats upgrade just saved us a little bit more special that's okay we got a way to take a long synergy that would have rear old it on the fact that it's good so this was probably a shitty purse effectively it's not enough money to argument out of the fact that build and get it which is a golden chest get the keys at this point I don't think that's totally fine right now because if it's just okay but now it doesn't m\""
      ]
     },
     "execution_count": 11,
     "metadata": {},
     "output_type": "execute_result"
    }
   ],
   "source": [
    "generate(model, prime_str='hey', predict_len=2000, temperature=0.8, cuda=cuda)"
   ]
  },
  {
   "cell_type": "code",
   "execution_count": 12,
   "metadata": {},
   "outputs": [
    {
     "data": {
      "text/plain": [
       "\"devil basically the twice and I should have been there to re-roll any red hearts but right here and this is where we stay going as well as well we're just going to afford to be not definitely gonna get there I think we could have taken that at for this I digress we're gonna do it if we picked up a shot speed upgrade which is a shoe pill here is the first place is looking actually so we have no benefit this way this is like the the future for now thanks for watching hope you enjoyed the episode if you did click the like button helps out a great deal of course subscribe if you want a while as well and Larry judgment do I'm still exist but it's been a white not as excited to do my ability to get you got oh fuck it starting to become guppy just because we will do things that doesn't end up being the cities at least I don't want to try something about it look it up a hundred percent or they go oh it was worth it the devil chance on the next floor anyway speed but you can just drop me basically relatively easily deal with the devil and then we only have something on our current set the strength card is no we're also gonna head down to the next floor just definitely done but maybe a lot more advantages might as well just open the next floor we can use the spirit heart so we should go to the curse room contains us to get hurt aw it okay well with that on a speed upgrade now all right we're just out of the car of the streak that goes to us it's just a little bit more valuable across the devil here and turn that one of the to been a seat in the world you know I wanted to play well we get from we did enough money to meet a battery charge and he was looking at this this floor I mean it's ice oh that's never mad at least two of diamonds and we would expect but it doesn't help us for the cition which is actually just trying to suck dark muster we got a space bar item the mega sale so we made it to the spot but I don't disagree with that and that was the one thing we had like all the t\""
      ]
     },
     "execution_count": 12,
     "metadata": {},
     "output_type": "execute_result"
    }
   ],
   "source": [
    "generate(model, prime_str='devil', predict_len=2000, temperature=0.8, cuda=cuda)"
   ]
  },
  {
   "cell_type": "code",
   "execution_count": null,
   "metadata": {},
   "outputs": [],
   "source": []
  }
 ],
 "metadata": {
  "kernelspec": {
   "display_name": "Python 3",
   "language": "python",
   "name": "python3"
  },
  "language_info": {
   "codemirror_mode": {
    "name": "ipython",
    "version": 3
   },
   "file_extension": ".py",
   "mimetype": "text/x-python",
   "name": "python",
   "nbconvert_exporter": "python",
   "pygments_lexer": "ipython3",
   "version": "3.6.5"
  }
 },
 "nbformat": 4,
 "nbformat_minor": 2
}
